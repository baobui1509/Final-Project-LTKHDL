{
 "cells": [
  {
   "cell_type": "markdown",
   "id": "a0615e85",
   "metadata": {},
   "source": [
    "<div style=\"text-align: center; background-color: #0A6EBD; font-family: 'Trebuchet MS', Arial, sans-serif; color: white; padding: 20px; font-size: 40px; font-weight: bold; border-radius: 0 0 0 0; box-shadow: 0px 6px 8px rgba(0, 0, 0, 0.2); line-height: 1.5;\">\n",
    "    <center style=\"color:white;font-size:35px;padding:15px\"><b> ĐỒ ÁN CUỐI KỲ </b></center>\n",
    "<center style=\"color:black;font-size:30px;padding:15px\"><b> LẬP TRÌNH CHO KHOA HỌC DỮ LIỆU</b></center>\n",
    "</div>\n"
   ]
  },
  {
   "cell_type": "markdown",
   "id": "5cd12c24",
   "metadata": {},
   "source": [
    "## Import các thu viện cần thiết"
   ]
  },
  {
   "cell_type": "code",
   "execution_count": 1,
   "id": "d68f7244",
   "metadata": {},
   "outputs": [],
   "source": [
    "import pandas as pd"
   ]
  },
  {
   "cell_type": "markdown",
   "id": "ace6bc3c",
   "metadata": {},
   "source": [
    "## 1. Khám phá dữ liệu"
   ]
  },
  {
   "cell_type": "markdown",
   "id": "bb2034b5",
   "metadata": {},
   "source": [
    "### Đọc dữ liệu vào dataframe"
   ]
  },
  {
   "cell_type": "code",
   "execution_count": 3,
   "id": "4ec19ef3",
   "metadata": {
    "scrolled": true
   },
   "outputs": [],
   "source": [
    "df = pd.read_csv('../Data/who_life_exp.csv')"
   ]
  },
  {
   "cell_type": "code",
   "execution_count": 4,
   "id": "68b5a6c6",
   "metadata": {},
   "outputs": [
    {
     "data": {
      "text/html": [
       "<div>\n",
       "<style scoped>\n",
       "    .dataframe tbody tr th:only-of-type {\n",
       "        vertical-align: middle;\n",
       "    }\n",
       "\n",
       "    .dataframe tbody tr th {\n",
       "        vertical-align: top;\n",
       "    }\n",
       "\n",
       "    .dataframe thead th {\n",
       "        text-align: right;\n",
       "    }\n",
       "</style>\n",
       "<table border=\"1\" class=\"dataframe\">\n",
       "  <thead>\n",
       "    <tr style=\"text-align: right;\">\n",
       "      <th></th>\n",
       "      <th>country</th>\n",
       "      <th>country_code</th>\n",
       "      <th>region</th>\n",
       "      <th>year</th>\n",
       "      <th>life_expect</th>\n",
       "      <th>life_exp60</th>\n",
       "      <th>adult_mortality</th>\n",
       "      <th>infant_mort</th>\n",
       "      <th>age1-4mort</th>\n",
       "      <th>alcohol</th>\n",
       "      <th>...</th>\n",
       "      <th>che_gdp</th>\n",
       "      <th>une_pop</th>\n",
       "      <th>une_infant</th>\n",
       "      <th>une_life</th>\n",
       "      <th>une_hiv</th>\n",
       "      <th>une_gni</th>\n",
       "      <th>une_poverty</th>\n",
       "      <th>une_edu_spend</th>\n",
       "      <th>une_literacy</th>\n",
       "      <th>une_school</th>\n",
       "    </tr>\n",
       "  </thead>\n",
       "  <tbody>\n",
       "    <tr>\n",
       "      <th>0</th>\n",
       "      <td>Angola</td>\n",
       "      <td>AGO</td>\n",
       "      <td>Africa</td>\n",
       "      <td>2000</td>\n",
       "      <td>47.33730</td>\n",
       "      <td>14.73400</td>\n",
       "      <td>383.5583</td>\n",
       "      <td>0.137985</td>\n",
       "      <td>0.025695</td>\n",
       "      <td>1.47439</td>\n",
       "      <td>...</td>\n",
       "      <td>1.90860</td>\n",
       "      <td>16395.473</td>\n",
       "      <td>122.2</td>\n",
       "      <td>46.522</td>\n",
       "      <td>1.0</td>\n",
       "      <td>2530.0</td>\n",
       "      <td>32.3</td>\n",
       "      <td>2.60753</td>\n",
       "      <td>NaN</td>\n",
       "      <td>NaN</td>\n",
       "    </tr>\n",
       "    <tr>\n",
       "      <th>1</th>\n",
       "      <td>Angola</td>\n",
       "      <td>AGO</td>\n",
       "      <td>Africa</td>\n",
       "      <td>2001</td>\n",
       "      <td>48.19789</td>\n",
       "      <td>14.95963</td>\n",
       "      <td>372.3876</td>\n",
       "      <td>0.133675</td>\n",
       "      <td>0.024500</td>\n",
       "      <td>1.94025</td>\n",
       "      <td>...</td>\n",
       "      <td>4.48352</td>\n",
       "      <td>16945.753</td>\n",
       "      <td>118.9</td>\n",
       "      <td>47.059</td>\n",
       "      <td>1.1</td>\n",
       "      <td>2630.0</td>\n",
       "      <td>NaN</td>\n",
       "      <td>NaN</td>\n",
       "      <td>67.40542</td>\n",
       "      <td>NaN</td>\n",
       "    </tr>\n",
       "    <tr>\n",
       "      <th>2</th>\n",
       "      <td>Angola</td>\n",
       "      <td>AGO</td>\n",
       "      <td>Africa</td>\n",
       "      <td>2002</td>\n",
       "      <td>49.42569</td>\n",
       "      <td>15.20010</td>\n",
       "      <td>354.5147</td>\n",
       "      <td>0.128320</td>\n",
       "      <td>0.023260</td>\n",
       "      <td>2.07512</td>\n",
       "      <td>...</td>\n",
       "      <td>3.32946</td>\n",
       "      <td>17519.417</td>\n",
       "      <td>115.1</td>\n",
       "      <td>47.702</td>\n",
       "      <td>1.2</td>\n",
       "      <td>3180.0</td>\n",
       "      <td>NaN</td>\n",
       "      <td>NaN</td>\n",
       "      <td>NaN</td>\n",
       "      <td>NaN</td>\n",
       "    </tr>\n",
       "    <tr>\n",
       "      <th>3</th>\n",
       "      <td>Angola</td>\n",
       "      <td>AGO</td>\n",
       "      <td>Africa</td>\n",
       "      <td>2003</td>\n",
       "      <td>50.50266</td>\n",
       "      <td>15.39144</td>\n",
       "      <td>343.2169</td>\n",
       "      <td>0.122040</td>\n",
       "      <td>0.021925</td>\n",
       "      <td>2.20275</td>\n",
       "      <td>...</td>\n",
       "      <td>3.54797</td>\n",
       "      <td>18121.479</td>\n",
       "      <td>110.8</td>\n",
       "      <td>48.440</td>\n",
       "      <td>1.3</td>\n",
       "      <td>3260.0</td>\n",
       "      <td>NaN</td>\n",
       "      <td>NaN</td>\n",
       "      <td>NaN</td>\n",
       "      <td>NaN</td>\n",
       "    </tr>\n",
       "    <tr>\n",
       "      <th>4</th>\n",
       "      <td>Angola</td>\n",
       "      <td>AGO</td>\n",
       "      <td>Africa</td>\n",
       "      <td>2004</td>\n",
       "      <td>51.52863</td>\n",
       "      <td>15.56860</td>\n",
       "      <td>333.8711</td>\n",
       "      <td>0.115700</td>\n",
       "      <td>0.020545</td>\n",
       "      <td>2.41274</td>\n",
       "      <td>...</td>\n",
       "      <td>3.96720</td>\n",
       "      <td>18758.145</td>\n",
       "      <td>106.2</td>\n",
       "      <td>49.263</td>\n",
       "      <td>1.3</td>\n",
       "      <td>3560.0</td>\n",
       "      <td>NaN</td>\n",
       "      <td>NaN</td>\n",
       "      <td>NaN</td>\n",
       "      <td>NaN</td>\n",
       "    </tr>\n",
       "  </tbody>\n",
       "</table>\n",
       "<p>5 rows × 32 columns</p>\n",
       "</div>"
      ],
      "text/plain": [
       "  country country_code  region  year  life_expect  life_exp60  \\\n",
       "0  Angola          AGO  Africa  2000     47.33730    14.73400   \n",
       "1  Angola          AGO  Africa  2001     48.19789    14.95963   \n",
       "2  Angola          AGO  Africa  2002     49.42569    15.20010   \n",
       "3  Angola          AGO  Africa  2003     50.50266    15.39144   \n",
       "4  Angola          AGO  Africa  2004     51.52863    15.56860   \n",
       "\n",
       "   adult_mortality  infant_mort  age1-4mort  alcohol  ...  che_gdp    une_pop  \\\n",
       "0         383.5583     0.137985    0.025695  1.47439  ...  1.90860  16395.473   \n",
       "1         372.3876     0.133675    0.024500  1.94025  ...  4.48352  16945.753   \n",
       "2         354.5147     0.128320    0.023260  2.07512  ...  3.32946  17519.417   \n",
       "3         343.2169     0.122040    0.021925  2.20275  ...  3.54797  18121.479   \n",
       "4         333.8711     0.115700    0.020545  2.41274  ...  3.96720  18758.145   \n",
       "\n",
       "   une_infant  une_life  une_hiv  une_gni  une_poverty  une_edu_spend  \\\n",
       "0       122.2    46.522      1.0   2530.0         32.3        2.60753   \n",
       "1       118.9    47.059      1.1   2630.0          NaN            NaN   \n",
       "2       115.1    47.702      1.2   3180.0          NaN            NaN   \n",
       "3       110.8    48.440      1.3   3260.0          NaN            NaN   \n",
       "4       106.2    49.263      1.3   3560.0          NaN            NaN   \n",
       "\n",
       "   une_literacy  une_school  \n",
       "0           NaN         NaN  \n",
       "1      67.40542         NaN  \n",
       "2           NaN         NaN  \n",
       "3           NaN         NaN  \n",
       "4           NaN         NaN  \n",
       "\n",
       "[5 rows x 32 columns]"
      ]
     },
     "execution_count": 4,
     "metadata": {},
     "output_type": "execute_result"
    }
   ],
   "source": [
    "df.head()"
   ]
  },
  {
   "cell_type": "markdown",
   "id": "b922a267",
   "metadata": {},
   "source": [
    "## 2. Tiền xử lí dữ liệu"
   ]
  },
  {
   "cell_type": "markdown",
   "id": "994003ac",
   "metadata": {},
   "source": [
    "### Với mỗi cột có kiểu dữ liệu dạng phân loại (categorical), các giá trị được phân bố như thế nào?"
   ]
  },
  {
   "cell_type": "markdown",
   "id": "fc1a9c48",
   "metadata": {},
   "source": [
    "#### Tỉ lệ (%) giá trị thiếu của mỗi cột là bao nhiêu? Mỗi cột có bao nhiêu giá trị khác nhau? Hiển thị 1 vài giá trị"
   ]
  },
  {
   "cell_type": "code",
   "execution_count": 6,
   "id": "ddaf691b",
   "metadata": {},
   "outputs": [],
   "source": [
    "pd.set_option('display.max_colwidth', 100) # Dễ xem\n",
    "pd.set_option('display.max_columns', None) # Dễ xem"
   ]
  },
  {
   "cell_type": "code",
   "execution_count": 8,
   "id": "f1c11dec",
   "metadata": {
    "scrolled": true
   },
   "outputs": [
    {
     "data": {
      "text/html": [
       "<div>\n",
       "<style scoped>\n",
       "    .dataframe tbody tr th:only-of-type {\n",
       "        vertical-align: middle;\n",
       "    }\n",
       "\n",
       "    .dataframe tbody tr th {\n",
       "        vertical-align: top;\n",
       "    }\n",
       "\n",
       "    .dataframe thead th {\n",
       "        text-align: right;\n",
       "    }\n",
       "</style>\n",
       "<table border=\"1\" class=\"dataframe\">\n",
       "  <thead>\n",
       "    <tr style=\"text-align: right;\">\n",
       "      <th></th>\n",
       "      <th>country</th>\n",
       "      <th>country_code</th>\n",
       "      <th>region</th>\n",
       "    </tr>\n",
       "  </thead>\n",
       "  <tbody>\n",
       "    <tr>\n",
       "      <th>missing_ratio</th>\n",
       "      <td>0.0</td>\n",
       "      <td>0.0</td>\n",
       "      <td>0.0</td>\n",
       "    </tr>\n",
       "    <tr>\n",
       "      <th>num_diff_values</th>\n",
       "      <td>183</td>\n",
       "      <td>183</td>\n",
       "      <td>6</td>\n",
       "    </tr>\n",
       "    <tr>\n",
       "      <th>diff_vals</th>\n",
       "      <td>[Angola, Burundi, Benin, Burkina Faso, Botswana, Central African Republic, United Republic of Ta...</td>\n",
       "      <td>[AGO, BDI, BEN, BFA, BWA, CAF, TZA, UGA, ZAF, ZMB, ZWE, SSD, STP, SWZ, SYC, TCD, TGO, NAM, NER, ...</td>\n",
       "      <td>[Africa, Americas, Eastern Mediterranean, Europe, South-East Asia, Western Pacific]</td>\n",
       "    </tr>\n",
       "  </tbody>\n",
       "</table>\n",
       "</div>"
      ],
      "text/plain": [
       "                                                                                                             country  \\\n",
       "missing_ratio                                                                                                    0.0   \n",
       "num_diff_values                                                                                                  183   \n",
       "diff_vals        [Angola, Burundi, Benin, Burkina Faso, Botswana, Central African Republic, United Republic of Ta...   \n",
       "\n",
       "                                                                                                        country_code  \\\n",
       "missing_ratio                                                                                                    0.0   \n",
       "num_diff_values                                                                                                  183   \n",
       "diff_vals        [AGO, BDI, BEN, BFA, BWA, CAF, TZA, UGA, ZAF, ZMB, ZWE, SSD, STP, SWZ, SYC, TCD, TGO, NAM, NER, ...   \n",
       "\n",
       "                                                                                              region  \n",
       "missing_ratio                                                                                    0.0  \n",
       "num_diff_values                                                                                    6  \n",
       "diff_vals        [Africa, Americas, Eastern Mediterranean, Europe, South-East Asia, Western Pacific]  "
      ]
     },
     "execution_count": 8,
     "metadata": {},
     "output_type": "execute_result"
    }
   ],
   "source": [
    "cat_col_info_df = df.select_dtypes(exclude=[np.number])\n",
    "\n",
    "# Hàm tính tỉ lệ giá trị thiếu\n",
    "def missing_ratio(column):\n",
    "    return ((column.isnull().sum() / column.shape[0]) * 100).round(1)\n",
    "\n",
    "# Hàm tính số lượng giá trị khác nhau\n",
    "def num_diff_values(column):\n",
    "    return column.nunique()\n",
    "\n",
    "# Hàm trả về các giá trị khác nhau\n",
    "def diff_vals(s):\n",
    "    return s.dropna().unique()\n",
    "\n",
    "# Hiển thị\n",
    "cat_col_info_df = cat_col_info_df.agg([missing_ratio, num_diff_values, diff_vals])\n",
    "cat_col_info_df"
   ]
  },
  {
   "cell_type": "markdown",
   "id": "f9f97bc7",
   "metadata": {},
   "source": [
    "Không có gì bất thường ở đây cả!"
   ]
  }
 ],
 "metadata": {
  "kernelspec": {
   "display_name": "Python 3 (ipykernel)",
   "language": "python",
   "name": "python3"
  },
  "language_info": {
   "codemirror_mode": {
    "name": "ipython",
    "version": 3
   },
   "file_extension": ".py",
   "mimetype": "text/x-python",
   "name": "python",
   "nbconvert_exporter": "python",
   "pygments_lexer": "ipython3",
   "version": "3.11.5"
  }
 },
 "nbformat": 4,
 "nbformat_minor": 5
}
