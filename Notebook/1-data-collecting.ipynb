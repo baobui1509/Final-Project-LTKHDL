{
 "cells": [
  {
   "cell_type": "markdown",
   "id": "dd3b0758",
   "metadata": {},
   "source": [
    "<div style=\"text-align: center; background-color: #0A6EBD; font-family: 'Trebuchet MS', Arial, sans-serif; color: white; padding: 20px; font-size: 40px; font-weight: bold; border-radius: 0 0 0 0; box-shadow: 0px 6px 8px rgba(0, 0, 0, 0.2); line-height: 1.5;\">\n",
    "    <center style=\"color:white;font-size:35px;padding:15px\"><b> ĐỒ ÁN CUỐI KỲ </b></center>\n",
    "<center style=\"color:black;font-size:30px;padding:15px\"><b> LẬP TRÌNH CHO KHOA HỌC DỮ LIỆU</b></center>\n",
    "</div>\n"
   ]
  },
  {
   "cell_type": "markdown",
   "id": "696659cc",
   "metadata": {},
   "source": [
    "## Thông tin thành viên"
   ]
  },
  {
   "cell_type": "markdown",
   "id": "cdb4d4ff",
   "metadata": {},
   "source": [
    "| MSSV | Họ và tên | Tài khoản GitHub |\n",
    "|:----:|:---:|:---:|\n",
    "|21120413| Bùi Thiên Bảo | https://github.com/baobui1509 |\n",
    "|21120426| Huỳnh Phát Đạt | https://github.com/XDatXD |\n",
    "|21120494| Hồ Trọng Lễ | https://github.com/Leneae |"
   ]
  },
  {
   "cell_type": "markdown",
   "id": "623ee7e0",
   "metadata": {},
   "source": [
    "## Thu thập dữ liệu"
   ]
  },
  {
   "cell_type": "markdown",
   "id": "895958b4",
   "metadata": {},
   "source": [
    "### Chủ đề của dữ liệu là gì và được lấy từ nguồn nào?"
   ]
  },
  {
   "cell_type": "markdown",
   "id": "7ef14a09",
   "metadata": {},
   "source": [
    "- Chủ đề: Về tuổi thọ của các quốc gia, là tập hợp các yếu tố ảnh hưởng đến tuổi thọ trung bình của các quốc gia trên thế giới.\n",
    "- Nguồn: Tập dữ liệu được lấy từ Kaggle - [WHO national life expectancy](https://www.kaggle.com/mmattson/who-national-life-expectancy)"
   ]
  },
  {
   "cell_type": "markdown",
   "id": "c3c287a4",
   "metadata": {},
   "source": [
    "### Tác giả có cho phép sử dụng dữ liệu này không?"
   ]
  },
  {
   "cell_type": "markdown",
   "id": "015297fa",
   "metadata": {},
   "source": [
    "- Giấy phép: **CC0: Public Domain** (cung cấp bởi Creative Commons).\n",
    "- Đây là bộ dữ liệu  miễn phí, không có điều kiện và không có hạn chế từ phía tác giả, giống như nó đã thuộc về phạm vi công cộng."
   ]
  },
  {
   "cell_type": "markdown",
   "id": "cfba69f1",
   "metadata": {},
   "source": [
    "### Tác giả thu thập dữ liệu như thế nào?"
   ]
  },
  {
   "cell_type": "markdown",
   "id": "59292626",
   "metadata": {},
   "source": [
    "- Bộ dữ liệu này được WHO cung cấp và được thu thập từ nhiều nguồn, chủ yếu là sử dụng thông tin của GHO (Đài quan sát sức khỏe toàn cầu) và UNESCO (Tổ chức Giáo dục, Khoa học và Văn hóa Liên Hợp Quốc).\n",
    "- Tập dữ liệu được sử dụng trong đồ án này là một phần nhỏ các yếu tố ảnh hưởng đến tuổi thọ của 183 quốc gia và trong khoảng thời gian từ năm 2000 đến năm 2016. "
   ]
  }
 ],
 "metadata": {
  "kernelspec": {
   "display_name": "Python 3 (ipykernel)",
   "language": "python",
   "name": "python3"
  },
  "language_info": {
   "codemirror_mode": {
    "name": "ipython",
    "version": 3
   },
   "file_extension": ".py",
   "mimetype": "text/x-python",
   "name": "python",
   "nbconvert_exporter": "python",
   "pygments_lexer": "ipython3",
   "version": "3.11.5"
  }
 },
 "nbformat": 4,
 "nbformat_minor": 5
}
