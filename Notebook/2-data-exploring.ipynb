{
 "cells": [
  {
   "cell_type": "markdown",
   "id": "a0615e85",
   "metadata": {},
   "source": [
    "<div style=\"text-align: center; background-color: #0A6EBD; font-family: 'Trebuchet MS', Arial, sans-serif; color: white; padding: 20px; font-size: 40px; font-weight: bold; border-radius: 0 0 0 0; box-shadow: 0px 6px 8px rgba(0, 0, 0, 0.2); line-height: 1.5;\">\n",
    "    <center style=\"color:white;font-size:35px;padding:15px\"><b> ĐỒ ÁN CUỐI KỲ </b></center>\n",
    "<center style=\"color:black;font-size:30px;padding:15px\"><b> LẬP TRÌNH CHO KHOA HỌC DỮ LIỆU</b></center>\n",
    "</div>\n"
   ]
  },
  {
   "cell_type": "markdown",
   "id": "5cd12c24",
   "metadata": {},
   "source": [
    "## Import các thư viện cần thiết"
   ]
  },
  {
   "cell_type": "code",
   "execution_count": 6,
   "id": "d68f7244",
   "metadata": {},
   "outputs": [],
   "source": [
    "import pandas as pd"
   ]
  },
  {
   "cell_type": "markdown",
   "id": "ace6bc3c",
   "metadata": {},
   "source": [
    "## 1. Khám phá dữ liệu"
   ]
  },
  {
   "cell_type": "markdown",
   "id": "bb2034b5",
   "metadata": {},
   "source": [
    "### Đọc dữ liệu vào dataframe"
   ]
  },
  {
   "cell_type": "code",
   "execution_count": 7,
   "id": "4ec19ef3",
   "metadata": {
    "scrolled": true
   },
   "outputs": [],
   "source": [
    "df = pd.read_csv('../Data/who_life_exp.csv')"
   ]
  },
  {
   "cell_type": "code",
   "execution_count": 8,
   "id": "68b5a6c6",
   "metadata": {},
   "outputs": [
    {
     "data": {
      "text/html": [
       "<div>\n",
       "<style scoped>\n",
       "    .dataframe tbody tr th:only-of-type {\n",
       "        vertical-align: middle;\n",
       "    }\n",
       "\n",
       "    .dataframe tbody tr th {\n",
       "        vertical-align: top;\n",
       "    }\n",
       "\n",
       "    .dataframe thead th {\n",
       "        text-align: right;\n",
       "    }\n",
       "</style>\n",
       "<table border=\"1\" class=\"dataframe\">\n",
       "  <thead>\n",
       "    <tr style=\"text-align: right;\">\n",
       "      <th></th>\n",
       "      <th>country</th>\n",
       "      <th>country_code</th>\n",
       "      <th>region</th>\n",
       "      <th>year</th>\n",
       "      <th>life_expect</th>\n",
       "      <th>life_exp60</th>\n",
       "      <th>adult_mortality</th>\n",
       "      <th>infant_mort</th>\n",
       "      <th>age1-4mort</th>\n",
       "      <th>alcohol</th>\n",
       "      <th>...</th>\n",
       "      <th>che_gdp</th>\n",
       "      <th>une_pop</th>\n",
       "      <th>une_infant</th>\n",
       "      <th>une_life</th>\n",
       "      <th>une_hiv</th>\n",
       "      <th>une_gni</th>\n",
       "      <th>une_poverty</th>\n",
       "      <th>une_edu_spend</th>\n",
       "      <th>une_literacy</th>\n",
       "      <th>une_school</th>\n",
       "    </tr>\n",
       "  </thead>\n",
       "  <tbody>\n",
       "    <tr>\n",
       "      <th>0</th>\n",
       "      <td>Angola</td>\n",
       "      <td>AGO</td>\n",
       "      <td>Africa</td>\n",
       "      <td>2000</td>\n",
       "      <td>47.33730</td>\n",
       "      <td>14.73400</td>\n",
       "      <td>383.5583</td>\n",
       "      <td>0.137985</td>\n",
       "      <td>0.025695</td>\n",
       "      <td>1.47439</td>\n",
       "      <td>...</td>\n",
       "      <td>1.90860</td>\n",
       "      <td>16395.473</td>\n",
       "      <td>122.2</td>\n",
       "      <td>46.522</td>\n",
       "      <td>1.0</td>\n",
       "      <td>2530.0</td>\n",
       "      <td>32.3</td>\n",
       "      <td>2.60753</td>\n",
       "      <td>NaN</td>\n",
       "      <td>NaN</td>\n",
       "    </tr>\n",
       "    <tr>\n",
       "      <th>1</th>\n",
       "      <td>Angola</td>\n",
       "      <td>AGO</td>\n",
       "      <td>Africa</td>\n",
       "      <td>2001</td>\n",
       "      <td>48.19789</td>\n",
       "      <td>14.95963</td>\n",
       "      <td>372.3876</td>\n",
       "      <td>0.133675</td>\n",
       "      <td>0.024500</td>\n",
       "      <td>1.94025</td>\n",
       "      <td>...</td>\n",
       "      <td>4.48352</td>\n",
       "      <td>16945.753</td>\n",
       "      <td>118.9</td>\n",
       "      <td>47.059</td>\n",
       "      <td>1.1</td>\n",
       "      <td>2630.0</td>\n",
       "      <td>NaN</td>\n",
       "      <td>NaN</td>\n",
       "      <td>67.40542</td>\n",
       "      <td>NaN</td>\n",
       "    </tr>\n",
       "    <tr>\n",
       "      <th>2</th>\n",
       "      <td>Angola</td>\n",
       "      <td>AGO</td>\n",
       "      <td>Africa</td>\n",
       "      <td>2002</td>\n",
       "      <td>49.42569</td>\n",
       "      <td>15.20010</td>\n",
       "      <td>354.5147</td>\n",
       "      <td>0.128320</td>\n",
       "      <td>0.023260</td>\n",
       "      <td>2.07512</td>\n",
       "      <td>...</td>\n",
       "      <td>3.32946</td>\n",
       "      <td>17519.417</td>\n",
       "      <td>115.1</td>\n",
       "      <td>47.702</td>\n",
       "      <td>1.2</td>\n",
       "      <td>3180.0</td>\n",
       "      <td>NaN</td>\n",
       "      <td>NaN</td>\n",
       "      <td>NaN</td>\n",
       "      <td>NaN</td>\n",
       "    </tr>\n",
       "    <tr>\n",
       "      <th>3</th>\n",
       "      <td>Angola</td>\n",
       "      <td>AGO</td>\n",
       "      <td>Africa</td>\n",
       "      <td>2003</td>\n",
       "      <td>50.50266</td>\n",
       "      <td>15.39144</td>\n",
       "      <td>343.2169</td>\n",
       "      <td>0.122040</td>\n",
       "      <td>0.021925</td>\n",
       "      <td>2.20275</td>\n",
       "      <td>...</td>\n",
       "      <td>3.54797</td>\n",
       "      <td>18121.479</td>\n",
       "      <td>110.8</td>\n",
       "      <td>48.440</td>\n",
       "      <td>1.3</td>\n",
       "      <td>3260.0</td>\n",
       "      <td>NaN</td>\n",
       "      <td>NaN</td>\n",
       "      <td>NaN</td>\n",
       "      <td>NaN</td>\n",
       "    </tr>\n",
       "    <tr>\n",
       "      <th>4</th>\n",
       "      <td>Angola</td>\n",
       "      <td>AGO</td>\n",
       "      <td>Africa</td>\n",
       "      <td>2004</td>\n",
       "      <td>51.52863</td>\n",
       "      <td>15.56860</td>\n",
       "      <td>333.8711</td>\n",
       "      <td>0.115700</td>\n",
       "      <td>0.020545</td>\n",
       "      <td>2.41274</td>\n",
       "      <td>...</td>\n",
       "      <td>3.96720</td>\n",
       "      <td>18758.145</td>\n",
       "      <td>106.2</td>\n",
       "      <td>49.263</td>\n",
       "      <td>1.3</td>\n",
       "      <td>3560.0</td>\n",
       "      <td>NaN</td>\n",
       "      <td>NaN</td>\n",
       "      <td>NaN</td>\n",
       "      <td>NaN</td>\n",
       "    </tr>\n",
       "  </tbody>\n",
       "</table>\n",
       "<p>5 rows × 32 columns</p>\n",
       "</div>"
      ],
      "text/plain": [
       "  country country_code  region  year  life_expect  life_exp60  \\\n",
       "0  Angola          AGO  Africa  2000     47.33730    14.73400   \n",
       "1  Angola          AGO  Africa  2001     48.19789    14.95963   \n",
       "2  Angola          AGO  Africa  2002     49.42569    15.20010   \n",
       "3  Angola          AGO  Africa  2003     50.50266    15.39144   \n",
       "4  Angola          AGO  Africa  2004     51.52863    15.56860   \n",
       "\n",
       "   adult_mortality  infant_mort  age1-4mort  alcohol  ...  che_gdp    une_pop  \\\n",
       "0         383.5583     0.137985    0.025695  1.47439  ...  1.90860  16395.473   \n",
       "1         372.3876     0.133675    0.024500  1.94025  ...  4.48352  16945.753   \n",
       "2         354.5147     0.128320    0.023260  2.07512  ...  3.32946  17519.417   \n",
       "3         343.2169     0.122040    0.021925  2.20275  ...  3.54797  18121.479   \n",
       "4         333.8711     0.115700    0.020545  2.41274  ...  3.96720  18758.145   \n",
       "\n",
       "   une_infant  une_life  une_hiv  une_gni  une_poverty  une_edu_spend  \\\n",
       "0       122.2    46.522      1.0   2530.0         32.3        2.60753   \n",
       "1       118.9    47.059      1.1   2630.0          NaN            NaN   \n",
       "2       115.1    47.702      1.2   3180.0          NaN            NaN   \n",
       "3       110.8    48.440      1.3   3260.0          NaN            NaN   \n",
       "4       106.2    49.263      1.3   3560.0          NaN            NaN   \n",
       "\n",
       "   une_literacy  une_school  \n",
       "0           NaN         NaN  \n",
       "1      67.40542         NaN  \n",
       "2           NaN         NaN  \n",
       "3           NaN         NaN  \n",
       "4           NaN         NaN  \n",
       "\n",
       "[5 rows x 32 columns]"
      ]
     },
     "execution_count": 8,
     "metadata": {},
     "output_type": "execute_result"
    }
   ],
   "source": [
    "df.head()"
   ]
  },
  {
   "cell_type": "markdown",
   "id": "b922a267",
   "metadata": {},
   "source": [
    "## 2. Tiền xử lí dữ liệu"
   ]
  },
  {
   "cell_type": "markdown",
   "id": "50726632",
   "metadata": {},
   "source": [
    "### Có bao nhiêu dòng và bao nhiêu cột của tập dữ liệu?"
   ]
  },
  {
   "cell_type": "code",
   "execution_count": 9,
   "id": "0827aee1",
   "metadata": {},
   "outputs": [
    {
     "name": "stdout",
     "output_type": "stream",
     "text": [
      "Bộ dữ liệu có 3111 dòng và 32 cột.\n"
     ]
    }
   ],
   "source": [
    "num_rows, num_columns = df.shape\n",
    "print(f'Bộ dữ liệu có {num_rows} dòng và {num_columns} cột.')\n"
   ]
  },
  {
   "cell_type": "markdown",
   "id": "2d6cbd6d",
   "metadata": {},
   "source": [
    "### Ý nghĩa của từng dòng dữ liệu là gì?\n",
    "Mỗi dòng thể hiện số liệu giá trị cho từng cột được thu thập được từ WHO, có thể ở một số cột sẽ không có số liệu vì chưa thu thập được. \n",
    "Có tổng cộng 3111 dòng số liệu."
   ]
  },
  {
   "cell_type": "markdown",
   "id": "2ee1f1ea",
   "metadata": {},
   "source": [
    "### Có dòng nào bị trùng lặp không?"
   ]
  },
  {
   "cell_type": "code",
   "execution_count": 10,
   "id": "93c25ee3",
   "metadata": {},
   "outputs": [
    {
     "name": "stdout",
     "output_type": "stream",
     "text": [
      "Không có dòng trùng lặp.\n"
     ]
    }
   ],
   "source": [
    "duplicated_rows = df[df.duplicated()]\n",
    "\n",
    "if duplicated_rows.empty:\n",
    "    print(\"Không có dòng trùng lặp.\")\n",
    "else:\n",
    "    print(\"Có dòng trùng lặp.\")"
   ]
  },
  {
   "cell_type": "markdown",
   "id": "3ed84914",
   "metadata": {},
   "source": [
    "### Ý nghĩa của từng cột dữ liệu là gì?\n",
    "1. country - Tên của đất nước.\n",
    "2. country_code - Mã 3 chữ cái xác định của mỗi quốc gia.\n",
    "3. region - Châu lục.\n",
    "4. year - Năm dữ liệu được thu thập.\n",
    "5. life_expect -Tuổi thọ trung bình khi sinh.\n",
    "6. life_exp60 - Tuổi thọ trung bình ở tuổi 60.\n",
    "7. adult_mortality - Tỷ lệ tử vong ở người trưởng thành ở cả hai giới (xác suất tử vong từ 15 đến 60 tuổi trên 1000 dân).\n",
    "8. infant_mort - Tỷ suất tử vong trẻ sơ sinh dưới 1 tuổi.\n",
    "9. age1-4mort - Tỷ suất tử vong trẻ em từ 1-4 tuổi.\n",
    "10. alcohol - Mức tiêu thụ rượu bình quân đầu người được ghi nhận ở người lớn (trên 15 tuổi) (lít).\n",
    "11. bmi -Chỉ số khối cơ thể trung bình (kg/m2), chỉ số dinh dưỡng/mức độ béo phì.\n",
    "12. age5-19thinness - Tỷ lệ trẻ em từ 5-19 tuổi bị gầy quá mức (Chỉ số suy dinh dưỡng).\n",
    "13. age5-19obesity - Tỷ lệ trẻ em từ 5-19 tuổi bị béo phì.\n",
    "14. hepatitis - Tỷ lệ tiêm chủng viêm gan B (HepB) cho trẻ 1 tuổi (%).\n",
    "15. measles - Tỷ lệ tiêm chủng vắc xin sởi (MCV1) cho trẻ 1 tuổi (%).\n",
    "16. polio - Tỷ lệ tiêm chủng bại liệt (Pol3) cho trẻ 1 tuổi (%).\n",
    "17. diphtheria - Tỷ lệ tiêm chủng bạch hầu, uốn ván và ho gà (DTP3) cho trẻ 1 tuổi (%).\n",
    "18. basic_water - Dân số được tiếp cận nguồn nước sạch.\n",
    "19. doctors - Số bác sỹ trên 10.000 dân. Chỉ số tài nguyên chăm sóc sức khỏe.\n",
    "20. hospitals - Số bệnh viện trên 100.000 dân. Chỉ số năng lực y tế.\n",
    "21. gni_capita - Tổng thu nhập quốc dân bình quân đầu người theo sức mua tương đương (đô la quốc tế).\n",
    "22. gghe-d: Chi tiêu y tế chính phủ trong nước (GGHE-D) tính theo phần trăm tổng sản phẩm quốc nội (GDP) (%).\n",
    "23. che_gdp: Chi tiêu y tế hiện tại (CHE) tính theo phần trăm tổng sản phẩm quốc nội (GDP) (%).\n",
    "24. une_pop: Dân số thất nghiệp ước tính (1.000 người).\n",
    "25. une_infant: Tỷ lệ tử vong ở trẻ sơ sinh (trên 1.000 trẻ).\n",
    "26. une_life: Tuổi thọ kỳ vọng khi sinh của người thất nghiệp (năm).\n",
    "27. une_hiv: Tỷ lệ nhiễm HIV, tổng cộng (% dân số trong độ tuổi 15-49).\n",
    "28. une_gni: Thu nhập quốc dân (GNI) bình quân đầu người của người thất nghiệp (USD).\n",
    "29. une_poverty: Tỷ lệ nghèo đầu người ở mức 1,90 USD một ngày (PPP) (% dân số).\n",
    "30. une_edu_spend: Chi tiêu của chính phủ cho giáo dục tính theo phần trăm GDP (%).\n",
    "31. une_literacy: Tỷ lệ biết chữ ở người trưởng thành, 15 tuổi trở lên (%).\n",
    "32. une_school: Số năm đi học trung bình (ISCED 1 trở lên) của người trên 25 tuổi."
   ]
  }
 ],
 "metadata": {
  "kernelspec": {
   "display_name": "Python 3 (ipykernel)",
   "language": "python",
   "name": "python3"
  },
  "language_info": {
   "codemirror_mode": {
    "name": "ipython",
    "version": 3
   },
   "file_extension": ".py",
   "mimetype": "text/x-python",
   "name": "python",
   "nbconvert_exporter": "python",
   "pygments_lexer": "ipython3",
   "version": "3.10.11"
  }
 },
 "nbformat": 4,
 "nbformat_minor": 5
}
