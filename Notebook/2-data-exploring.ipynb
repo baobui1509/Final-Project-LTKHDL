{
 "cells": [
  {
   "cell_type": "markdown",
   "id": "a0615e85",
   "metadata": {},
   "source": [
    "<div style=\"text-align: center; background-color: #0A6EBD; font-family: 'Trebuchet MS', Arial, sans-serif; color: white; padding: 20px; font-size: 40px; font-weight: bold; border-radius: 0 0 0 0; box-shadow: 0px 6px 8px rgba(0, 0, 0, 0.2); line-height: 1.5;\">\n",
    "    <center style=\"color:white;font-size:35px;padding:15px\"><b> ĐỒ ÁN CUỐI KỲ </b></center>\n",
    "<center style=\"color:black;font-size:30px;padding:15px\"><b> LẬP TRÌNH CHO KHOA HỌC DỮ LIỆU</b></center>\n",
    "</div>\n"
   ]
  },
  {
   "cell_type": "markdown",
   "id": "5cd12c24",
   "metadata": {},
   "source": [
    "## Import các thu viện cần thiết"
   ]
  },
  {
   "cell_type": "code",
   "execution_count": 1,
   "id": "d68f7244",
   "metadata": {},
   "outputs": [],
   "source": [
    "import pandas as pd\n",
    "import numpy as np\n",
    "import matplotlib.pyplot as plt"
   ]
  },
  {
   "cell_type": "markdown",
   "id": "ace6bc3c",
   "metadata": {},
   "source": [
    "## 1. Khám phá dữ liệu"
   ]
  },
  {
   "cell_type": "markdown",
   "id": "bb2034b5",
   "metadata": {},
   "source": [
    "### Đọc dữ liệu vào dataframe"
   ]
  },
  {
   "cell_type": "code",
   "execution_count": 2,
   "id": "4ec19ef3",
   "metadata": {
    "scrolled": true
   },
   "outputs": [],
   "source": [
    "df = pd.read_csv('../Data/who_life_exp.csv')"
   ]
  },
  {
   "cell_type": "code",
   "execution_count": 3,
   "id": "68b5a6c6",
   "metadata": {},
   "outputs": [
    {
     "data": {
      "text/html": [
       "<div>\n",
       "<style scoped>\n",
       "    .dataframe tbody tr th:only-of-type {\n",
       "        vertical-align: middle;\n",
       "    }\n",
       "\n",
       "    .dataframe tbody tr th {\n",
       "        vertical-align: top;\n",
       "    }\n",
       "\n",
       "    .dataframe thead th {\n",
       "        text-align: right;\n",
       "    }\n",
       "</style>\n",
       "<table border=\"1\" class=\"dataframe\">\n",
       "  <thead>\n",
       "    <tr style=\"text-align: right;\">\n",
       "      <th></th>\n",
       "      <th>country</th>\n",
       "      <th>country_code</th>\n",
       "      <th>region</th>\n",
       "      <th>year</th>\n",
       "      <th>life_expect</th>\n",
       "      <th>life_exp60</th>\n",
       "      <th>adult_mortality</th>\n",
       "      <th>infant_mort</th>\n",
       "      <th>age1-4mort</th>\n",
       "      <th>alcohol</th>\n",
       "      <th>...</th>\n",
       "      <th>che_gdp</th>\n",
       "      <th>une_pop</th>\n",
       "      <th>une_infant</th>\n",
       "      <th>une_life</th>\n",
       "      <th>une_hiv</th>\n",
       "      <th>une_gni</th>\n",
       "      <th>une_poverty</th>\n",
       "      <th>une_edu_spend</th>\n",
       "      <th>une_literacy</th>\n",
       "      <th>une_school</th>\n",
       "    </tr>\n",
       "  </thead>\n",
       "  <tbody>\n",
       "    <tr>\n",
       "      <th>0</th>\n",
       "      <td>Angola</td>\n",
       "      <td>AGO</td>\n",
       "      <td>Africa</td>\n",
       "      <td>2000</td>\n",
       "      <td>47.33730</td>\n",
       "      <td>14.73400</td>\n",
       "      <td>383.5583</td>\n",
       "      <td>0.137985</td>\n",
       "      <td>0.025695</td>\n",
       "      <td>1.47439</td>\n",
       "      <td>...</td>\n",
       "      <td>1.90860</td>\n",
       "      <td>16395.473</td>\n",
       "      <td>122.2</td>\n",
       "      <td>46.522</td>\n",
       "      <td>1.0</td>\n",
       "      <td>2530.0</td>\n",
       "      <td>32.3</td>\n",
       "      <td>2.60753</td>\n",
       "      <td>NaN</td>\n",
       "      <td>NaN</td>\n",
       "    </tr>\n",
       "    <tr>\n",
       "      <th>1</th>\n",
       "      <td>Angola</td>\n",
       "      <td>AGO</td>\n",
       "      <td>Africa</td>\n",
       "      <td>2001</td>\n",
       "      <td>48.19789</td>\n",
       "      <td>14.95963</td>\n",
       "      <td>372.3876</td>\n",
       "      <td>0.133675</td>\n",
       "      <td>0.024500</td>\n",
       "      <td>1.94025</td>\n",
       "      <td>...</td>\n",
       "      <td>4.48352</td>\n",
       "      <td>16945.753</td>\n",
       "      <td>118.9</td>\n",
       "      <td>47.059</td>\n",
       "      <td>1.1</td>\n",
       "      <td>2630.0</td>\n",
       "      <td>NaN</td>\n",
       "      <td>NaN</td>\n",
       "      <td>67.40542</td>\n",
       "      <td>NaN</td>\n",
       "    </tr>\n",
       "    <tr>\n",
       "      <th>2</th>\n",
       "      <td>Angola</td>\n",
       "      <td>AGO</td>\n",
       "      <td>Africa</td>\n",
       "      <td>2002</td>\n",
       "      <td>49.42569</td>\n",
       "      <td>15.20010</td>\n",
       "      <td>354.5147</td>\n",
       "      <td>0.128320</td>\n",
       "      <td>0.023260</td>\n",
       "      <td>2.07512</td>\n",
       "      <td>...</td>\n",
       "      <td>3.32946</td>\n",
       "      <td>17519.417</td>\n",
       "      <td>115.1</td>\n",
       "      <td>47.702</td>\n",
       "      <td>1.2</td>\n",
       "      <td>3180.0</td>\n",
       "      <td>NaN</td>\n",
       "      <td>NaN</td>\n",
       "      <td>NaN</td>\n",
       "      <td>NaN</td>\n",
       "    </tr>\n",
       "    <tr>\n",
       "      <th>3</th>\n",
       "      <td>Angola</td>\n",
       "      <td>AGO</td>\n",
       "      <td>Africa</td>\n",
       "      <td>2003</td>\n",
       "      <td>50.50266</td>\n",
       "      <td>15.39144</td>\n",
       "      <td>343.2169</td>\n",
       "      <td>0.122040</td>\n",
       "      <td>0.021925</td>\n",
       "      <td>2.20275</td>\n",
       "      <td>...</td>\n",
       "      <td>3.54797</td>\n",
       "      <td>18121.479</td>\n",
       "      <td>110.8</td>\n",
       "      <td>48.440</td>\n",
       "      <td>1.3</td>\n",
       "      <td>3260.0</td>\n",
       "      <td>NaN</td>\n",
       "      <td>NaN</td>\n",
       "      <td>NaN</td>\n",
       "      <td>NaN</td>\n",
       "    </tr>\n",
       "    <tr>\n",
       "      <th>4</th>\n",
       "      <td>Angola</td>\n",
       "      <td>AGO</td>\n",
       "      <td>Africa</td>\n",
       "      <td>2004</td>\n",
       "      <td>51.52863</td>\n",
       "      <td>15.56860</td>\n",
       "      <td>333.8711</td>\n",
       "      <td>0.115700</td>\n",
       "      <td>0.020545</td>\n",
       "      <td>2.41274</td>\n",
       "      <td>...</td>\n",
       "      <td>3.96720</td>\n",
       "      <td>18758.145</td>\n",
       "      <td>106.2</td>\n",
       "      <td>49.263</td>\n",
       "      <td>1.3</td>\n",
       "      <td>3560.0</td>\n",
       "      <td>NaN</td>\n",
       "      <td>NaN</td>\n",
       "      <td>NaN</td>\n",
       "      <td>NaN</td>\n",
       "    </tr>\n",
       "  </tbody>\n",
       "</table>\n",
       "<p>5 rows × 32 columns</p>\n",
       "</div>"
      ],
      "text/plain": [
       "  country country_code  region  year  life_expect  life_exp60  \\\n",
       "0  Angola          AGO  Africa  2000     47.33730    14.73400   \n",
       "1  Angola          AGO  Africa  2001     48.19789    14.95963   \n",
       "2  Angola          AGO  Africa  2002     49.42569    15.20010   \n",
       "3  Angola          AGO  Africa  2003     50.50266    15.39144   \n",
       "4  Angola          AGO  Africa  2004     51.52863    15.56860   \n",
       "\n",
       "   adult_mortality  infant_mort  age1-4mort  alcohol  ...  che_gdp    une_pop  \\\n",
       "0         383.5583     0.137985    0.025695  1.47439  ...  1.90860  16395.473   \n",
       "1         372.3876     0.133675    0.024500  1.94025  ...  4.48352  16945.753   \n",
       "2         354.5147     0.128320    0.023260  2.07512  ...  3.32946  17519.417   \n",
       "3         343.2169     0.122040    0.021925  2.20275  ...  3.54797  18121.479   \n",
       "4         333.8711     0.115700    0.020545  2.41274  ...  3.96720  18758.145   \n",
       "\n",
       "   une_infant  une_life  une_hiv  une_gni  une_poverty  une_edu_spend  \\\n",
       "0       122.2    46.522      1.0   2530.0         32.3        2.60753   \n",
       "1       118.9    47.059      1.1   2630.0          NaN            NaN   \n",
       "2       115.1    47.702      1.2   3180.0          NaN            NaN   \n",
       "3       110.8    48.440      1.3   3260.0          NaN            NaN   \n",
       "4       106.2    49.263      1.3   3560.0          NaN            NaN   \n",
       "\n",
       "   une_literacy  une_school  \n",
       "0           NaN         NaN  \n",
       "1      67.40542         NaN  \n",
       "2           NaN         NaN  \n",
       "3           NaN         NaN  \n",
       "4           NaN         NaN  \n",
       "\n",
       "[5 rows x 32 columns]"
      ]
     },
     "execution_count": 3,
     "metadata": {},
     "output_type": "execute_result"
    }
   ],
   "source": [
    "df.head()"
   ]
  },
  {
   "cell_type": "markdown",
   "id": "b922a267",
   "metadata": {},
   "source": [
    "## 2. Tiền xử lí dữ liệu"
   ]
  },
  {
   "cell_type": "markdown",
   "id": "1fa509b2",
   "metadata": {},
   "source": [
    "### Có bao nhiêu dòng và bao nhiêu cột của tập dữ liệu?"
   ]
  },
  {
   "cell_type": "code",
   "execution_count": 4,
   "id": "b7fa93d1",
   "metadata": {},
   "outputs": [
    {
     "name": "stdout",
     "output_type": "stream",
     "text": [
      "Bộ dữ liệu có 3111 dòng và 32 cột.\n"
     ]
    }
   ],
   "source": [
    "num_rows, num_columns = df.shape\n",
    "print(f'Bộ dữ liệu có {num_rows} dòng và {num_columns} cột.')"
   ]
  },
  {
   "cell_type": "markdown",
   "id": "67f89245",
   "metadata": {},
   "source": [
    "### Ý nghĩa của từng dòng dữ liệu là gì?"
   ]
  },
  {
   "cell_type": "markdown",
   "id": "ecad2cb6",
   "metadata": {},
   "source": [
    "Mỗi dòng thể hiện số liệu giá trị cho từng cột được thu thập được từ WHO, có thể ở một số cột sẽ không có số liệu vì chưa thu thập được. Có tổng cộng 3111 dòng số liệu.\n",
    "\n"
   ]
  },
  {
   "cell_type": "markdown",
   "id": "46640552",
   "metadata": {},
   "source": [
    "### Có dòng nào bị trùng lặp không?"
   ]
  },
  {
   "cell_type": "code",
   "execution_count": 5,
   "id": "7d0122ac",
   "metadata": {},
   "outputs": [
    {
     "name": "stdout",
     "output_type": "stream",
     "text": [
      "Không có dòng trùng lặp.\n"
     ]
    }
   ],
   "source": [
    "duplicated_rows = df[df.duplicated()]\n",
    "\n",
    "if duplicated_rows.empty:\n",
    "    print(\"Không có dòng trùng lặp.\")\n",
    "else:\n",
    "    print(\"Có dòng trùng lặp.\")"
   ]
  },
  {
   "cell_type": "markdown",
   "id": "a0bd7fed",
   "metadata": {},
   "source": [
    "### Ý nghĩa của từng cột dữ liệu là gì?"
   ]
  },
  {
   "cell_type": "markdown",
   "id": "dd81ef8f",
   "metadata": {},
   "source": [
    "| Tên cột | Ý nghĩa của cột | \n",
    "|:---------|:-----------------|\n",
    "| ***country*** | Tên quốc gia |\n",
    "| ***country_code*** | Mã định danh quốc gia gồm 3 chữ cái |\n",
    "| ***region*** | Khu vực của quốc gia |\n",
    "| ***year*** | Năm |\n",
    "| ***life_expect*** | Tuổi thọ trung bình trong năm |\n",
    "| ***life_exp60*** | Tỉ lệ dân số có tuổi thọ 60+ |\n",
    "| ***adult_mortality*** | Tỷ lệ tử vong ở người trưởng thành của cả 2 giới (xác suất tử vong từ 15 đến 60 tuổi trên 1000 dân số)|\n",
    "| ***infant_mort*** | Tỷ lệ tử vong đến 1 tuổi |\n",
    "| ***age1-4mort*** | Tỷ lệ tử vong trong độ tuổi từ 1 đến 4 |\n",
    "| ***alcohol*** | Rượu, mức tiêu thụ bình quân đầu người (15+) được ghi nhận (tính bằng lít rượu nguyên chất) |\n",
    "| ***bmi*** | BMI trung bình (kg/m^2) (18+) (ước tính theo tuổi được chuẩn hóa) |\n",
    "| ***age5-19thinness*** | Tỷ lệ gầy ở trẻ em và thanh thiếu niên, BMI < (trung bình - 2s.d.) (ước tính thô) (%) |\n",
    "| ***age5-19obesity*** | Tỷ lệ béo phì ở trẻ em và thanh thiếu niên, BMI > (trung bình + 2s.d.) (ước tính thô) (%) |\n",
    "| ***hepatitis*** | Tỷ lệ tiêm chủng viêm gan B (HepB) ở trẻ 1 tuổi (%) |\n",
    "| ***measles*** | Tỷ lệ tiêm ngừa vắc xin sởi mũi 1 (MCV1) ở trẻ 1 tuổi (%) |\n",
    "| ***polio*** | Tỷ lệ tiêm chủng bại liệt (Pol3) ở trẻ 1 tuổi (%) |\n",
    "| ***diphtheria*** | Tỷ lệ tiêm chủng giải độc tố uốn ván và ho gà (DTP3) cho trẻ 1 tuổi (%) |\n",
    "| ***basic_water*** | Tỷ lệ dân số sử dụng các loại nước uống cơ bản |\n",
    "| ***doctors*** | Số bác sĩ y khoa (trên 10.000 dân) |\n",
    "| ***hospitals*** | Mật độ bệnh viện trên 100.000 dân |\n",
    "| ***gni_capita*** | Tổng thu nhập quốc dân trên đầu người |\n",
    "| ***gghe-d*** | Chi tiêu chung cho y tế của chính phủ trong nước (GGHE-D) tính theo phần trăm tổng sản phẩm quốc nội (GDP) |\n",
    "| ***che_gdp*** | Chi tiêu cho y tế hiện tại (CHE) tính theo phần trăm tổng sản phẩm quốc nội (GDP) (%) |\n",
    "| ***une_pop*** | Dân số (hàng nghìn) |\n",
    "| ***une_infant*** | Số ca tử vong trung bình ở trẻ sơ sinh (trên 1.000 trẻ đẻ sống) |\n",
    "| ***une_life*** | Tuổi thọ trung bình theo UNESCO (năm) |\n",
    "| ***une_hiv*** | Tỷ lệ nhiễm HIV (% dân số từ 15-49 tuổi) |\n",
    "| ***une_gni*** | GNI bình quân đầu người theo UNESCO (đô la quốc tế hiện tại) |\n",
    "| ***une_poverty*** | Tỷ lệ nghèo đói ở mức 1,90 đô la một ngày (PPP) (% dân số) |\n",
    "| ***une_edu_spend*** | Chi tiêu của chính phủ cho giáo dục tính theo tỷ lệ phần trăm của GDP (%) |\n",
    "| ***une_literacy*** | Tỷ lệ người lớn biết chữ, dân số trên 15 tuổi, cả hai giới (%) |\n",
    "| ***une_school*** | Số năm đi học trung bình (ISCED 1 trở lên), dân số từ 25 tuổi trở lên, cả hai giới |"
   ]
  },
  {
   "cell_type": "markdown",
   "id": "e778288d",
   "metadata": {},
   "source": [
    "### Kiểu dữ liệu hiện tại của mỗi cột là gì? Có cột nào có kiểu dữ liệu không phù hợp không?"
   ]
  },
  {
   "cell_type": "code",
   "execution_count": 6,
   "id": "9a17fd49",
   "metadata": {},
   "outputs": [
    {
     "name": "stdout",
     "output_type": "stream",
     "text": [
      "<class 'pandas.core.frame.DataFrame'>\n",
      "RangeIndex: 3111 entries, 0 to 3110\n",
      "Data columns (total 32 columns):\n",
      " #   Column           Non-Null Count  Dtype  \n",
      "---  ------           --------------  -----  \n",
      " 0   country          3111 non-null   object \n",
      " 1   country_code     3111 non-null   object \n",
      " 2   region           3111 non-null   object \n",
      " 3   year             3111 non-null   int64  \n",
      " 4   life_expect      3111 non-null   float64\n",
      " 5   life_exp60       3111 non-null   float64\n",
      " 6   adult_mortality  3111 non-null   float64\n",
      " 7   infant_mort      3111 non-null   float64\n",
      " 8   age1-4mort       3111 non-null   float64\n",
      " 9   alcohol          3061 non-null   float64\n",
      " 10  bmi              3077 non-null   float64\n",
      " 11  age5-19thinness  3077 non-null   float64\n",
      " 12  age5-19obesity   3077 non-null   float64\n",
      " 13  hepatitis        2542 non-null   float64\n",
      " 14  measles          3092 non-null   float64\n",
      " 15  polio            3092 non-null   float64\n",
      " 16  diphtheria       3092 non-null   float64\n",
      " 17  basic_water      3079 non-null   float64\n",
      " 18  doctors          1780 non-null   float64\n",
      " 19  hospitals        130 non-null    float64\n",
      " 20  gni_capita       2429 non-null   float64\n",
      " 21  gghe-d           3011 non-null   float64\n",
      " 22  che_gdp          2994 non-null   float64\n",
      " 23  une_pop          3074 non-null   float64\n",
      " 24  une_infant       3111 non-null   float64\n",
      " 25  une_life         3111 non-null   float64\n",
      " 26  une_hiv          2370 non-null   float64\n",
      " 27  une_gni          2994 non-null   float64\n",
      " 28  une_poverty      913 non-null    float64\n",
      " 29  une_edu_spend    1825 non-null   float64\n",
      " 30  une_literacy     571 non-null    float64\n",
      " 31  une_school       805 non-null    float64\n",
      "dtypes: float64(28), int64(1), object(3)\n",
      "memory usage: 777.9+ KB\n"
     ]
    }
   ],
   "source": [
    "df.info() #In ra kieu du lieu cua moi cot"
   ]
  },
  {
   "cell_type": "markdown",
   "id": "9ed09181",
   "metadata": {},
   "source": [
    "Không có kiểu dữ liệu nào không phù hợp"
   ]
  },
  {
   "cell_type": "markdown",
   "id": "6cc30714",
   "metadata": {},
   "source": [
    "### Với mỗi cột có kiểu dữ liệu dạng số (numeric), các giá trị được phân bố như thế nào?"
   ]
  },
  {
   "cell_type": "markdown",
   "id": "05f0f3db",
   "metadata": {},
   "source": [
    "#### Phần trăm giá trị còn thiếu là bao nhiêu?"
   ]
  },
  {
   "cell_type": "code",
   "execution_count": 7,
   "id": "6f23b8c6",
   "metadata": {},
   "outputs": [
    {
     "name": "stdout",
     "output_type": "stream",
     "text": [
      "                 Missing percentage\n",
      "year                       0.000000\n",
      "life_expect                0.000000\n",
      "life_exp60                 0.000000\n",
      "adult_mortality            0.000000\n",
      "infant_mort                0.000000\n",
      "age1-4mort                 0.000000\n",
      "alcohol                    0.016072\n",
      "bmi                        0.010929\n",
      "age5-19thinness            0.010929\n",
      "age5-19obesity             0.010929\n",
      "hepatitis                  0.182899\n",
      "measles                    0.006107\n",
      "polio                      0.006107\n",
      "diphtheria                 0.006107\n",
      "basic_water                0.010286\n",
      "doctors                    0.427837\n",
      "hospitals                  0.958213\n",
      "gni_capita                 0.219222\n",
      "gghe-d                     0.032144\n",
      "che_gdp                    0.037608\n",
      "une_pop                    0.011893\n",
      "une_infant                 0.000000\n",
      "une_life                   0.000000\n",
      "une_hiv                    0.238187\n",
      "une_gni                    0.037608\n",
      "une_poverty                0.706525\n",
      "une_edu_spend              0.413372\n",
      "une_literacy               0.816458\n",
      "une_school                 0.741241\n"
     ]
    }
   ],
   "source": [
    "# Hàm tính phần trăm giá trị bị thiếu bằng cách lấy 1 trừ phần trăm giá trị hiện có trong cột so với gia trị lớn nhất của dataframe\n",
    "def missing_values(cols,df):\n",
    "    missing_percentage = 1 - cols.count() / len(df)\n",
    "    return missing_percentage\n",
    "# print(missing_values(df.select_dtypes(include='number'),df))\n",
    "missing_percentage_df = missing_values(df.select_dtypes(include='number'),df)\n",
    "# Chuyển kết quả về dạng dataframe rồi in ra\n",
    "missing_percentage_df = pd.DataFrame({'Missing percentage': missing_percentage_df })\n",
    "print(missing_percentage_df)"
   ]
  },
  {
   "cell_type": "markdown",
   "id": "629a2f06",
   "metadata": {},
   "source": [
    "#### Giá trị nhỏ nhất? Giá trị lớn nhất? Các giá trị này có gì bất thường không?"
   ]
  },
  {
   "cell_type": "code",
   "execution_count": 8,
   "id": "e56b66d4",
   "metadata": {},
   "outputs": [
    {
     "data": {
      "text/html": [
       "<div>\n",
       "<style scoped>\n",
       "    .dataframe tbody tr th:only-of-type {\n",
       "        vertical-align: middle;\n",
       "    }\n",
       "\n",
       "    .dataframe tbody tr th {\n",
       "        vertical-align: top;\n",
       "    }\n",
       "\n",
       "    .dataframe thead th {\n",
       "        text-align: right;\n",
       "    }\n",
       "</style>\n",
       "<table border=\"1\" class=\"dataframe\">\n",
       "  <thead>\n",
       "    <tr style=\"text-align: right;\">\n",
       "      <th></th>\n",
       "      <th>Min</th>\n",
       "      <th>Max</th>\n",
       "    </tr>\n",
       "  </thead>\n",
       "  <tbody>\n",
       "    <tr>\n",
       "      <th>year</th>\n",
       "      <td>2000.000000</td>\n",
       "      <td>2.016000e+03</td>\n",
       "    </tr>\n",
       "    <tr>\n",
       "      <th>life_expect</th>\n",
       "      <td>36.227360</td>\n",
       "      <td>8.416616e+01</td>\n",
       "    </tr>\n",
       "    <tr>\n",
       "      <th>life_exp60</th>\n",
       "      <td>10.728000</td>\n",
       "      <td>2.639402e+01</td>\n",
       "    </tr>\n",
       "    <tr>\n",
       "      <th>adult_mortality</th>\n",
       "      <td>49.201850</td>\n",
       "      <td>6.968742e+02</td>\n",
       "    </tr>\n",
       "    <tr>\n",
       "      <th>infant_mort</th>\n",
       "      <td>0.001470</td>\n",
       "      <td>1.645150e-01</td>\n",
       "    </tr>\n",
       "    <tr>\n",
       "      <th>age1-4mort</th>\n",
       "      <td>0.000065</td>\n",
       "      <td>3.909500e-02</td>\n",
       "    </tr>\n",
       "    <tr>\n",
       "      <th>alcohol</th>\n",
       "      <td>0.000000</td>\n",
       "      <td>2.018246e+01</td>\n",
       "    </tr>\n",
       "    <tr>\n",
       "      <th>bmi</th>\n",
       "      <td>19.800000</td>\n",
       "      <td>3.220000e+01</td>\n",
       "    </tr>\n",
       "    <tr>\n",
       "      <th>age5-19thinness</th>\n",
       "      <td>0.100000</td>\n",
       "      <td>2.810000e+01</td>\n",
       "    </tr>\n",
       "    <tr>\n",
       "      <th>age5-19obesity</th>\n",
       "      <td>0.100000</td>\n",
       "      <td>2.670000e+01</td>\n",
       "    </tr>\n",
       "    <tr>\n",
       "      <th>hepatitis</th>\n",
       "      <td>2.000000</td>\n",
       "      <td>9.900000e+01</td>\n",
       "    </tr>\n",
       "    <tr>\n",
       "      <th>measles</th>\n",
       "      <td>16.000000</td>\n",
       "      <td>9.900000e+01</td>\n",
       "    </tr>\n",
       "    <tr>\n",
       "      <th>polio</th>\n",
       "      <td>8.000000</td>\n",
       "      <td>9.900000e+01</td>\n",
       "    </tr>\n",
       "    <tr>\n",
       "      <th>diphtheria</th>\n",
       "      <td>19.000000</td>\n",
       "      <td>9.900000e+01</td>\n",
       "    </tr>\n",
       "    <tr>\n",
       "      <th>basic_water</th>\n",
       "      <td>18.695210</td>\n",
       "      <td>1.000000e+02</td>\n",
       "    </tr>\n",
       "    <tr>\n",
       "      <th>doctors</th>\n",
       "      <td>0.128000</td>\n",
       "      <td>7.954100e+01</td>\n",
       "    </tr>\n",
       "    <tr>\n",
       "      <th>hospitals</th>\n",
       "      <td>0.000000</td>\n",
       "      <td>5.644695e+01</td>\n",
       "    </tr>\n",
       "    <tr>\n",
       "      <th>gni_capita</th>\n",
       "      <td>250.000000</td>\n",
       "      <td>1.238600e+05</td>\n",
       "    </tr>\n",
       "    <tr>\n",
       "      <th>gghe-d</th>\n",
       "      <td>0.062360</td>\n",
       "      <td>1.206273e+01</td>\n",
       "    </tr>\n",
       "    <tr>\n",
       "      <th>che_gdp</th>\n",
       "      <td>1.025160</td>\n",
       "      <td>2.041341e+01</td>\n",
       "    </tr>\n",
       "    <tr>\n",
       "      <th>une_pop</th>\n",
       "      <td>76.016000</td>\n",
       "      <td>1.414049e+06</td>\n",
       "    </tr>\n",
       "    <tr>\n",
       "      <th>une_infant</th>\n",
       "      <td>1.600000</td>\n",
       "      <td>1.424000e+02</td>\n",
       "    </tr>\n",
       "    <tr>\n",
       "      <th>une_life</th>\n",
       "      <td>39.441000</td>\n",
       "      <td>8.398488e+01</td>\n",
       "    </tr>\n",
       "    <tr>\n",
       "      <th>une_hiv</th>\n",
       "      <td>0.100000</td>\n",
       "      <td>2.820000e+01</td>\n",
       "    </tr>\n",
       "    <tr>\n",
       "      <th>une_gni</th>\n",
       "      <td>420.000000</td>\n",
       "      <td>1.226700e+05</td>\n",
       "    </tr>\n",
       "    <tr>\n",
       "      <th>une_poverty</th>\n",
       "      <td>0.100000</td>\n",
       "      <td>9.410000e+01</td>\n",
       "    </tr>\n",
       "    <tr>\n",
       "      <th>une_edu_spend</th>\n",
       "      <td>0.787440</td>\n",
       "      <td>1.405908e+01</td>\n",
       "    </tr>\n",
       "    <tr>\n",
       "      <th>une_literacy</th>\n",
       "      <td>14.376040</td>\n",
       "      <td>9.999819e+01</td>\n",
       "    </tr>\n",
       "    <tr>\n",
       "      <th>une_school</th>\n",
       "      <td>0.559340</td>\n",
       "      <td>1.437880e+01</td>\n",
       "    </tr>\n",
       "  </tbody>\n",
       "</table>\n",
       "</div>"
      ],
      "text/plain": [
       "                         Min           Max\n",
       "year             2000.000000  2.016000e+03\n",
       "life_expect        36.227360  8.416616e+01\n",
       "life_exp60         10.728000  2.639402e+01\n",
       "adult_mortality    49.201850  6.968742e+02\n",
       "infant_mort         0.001470  1.645150e-01\n",
       "age1-4mort          0.000065  3.909500e-02\n",
       "alcohol             0.000000  2.018246e+01\n",
       "bmi                19.800000  3.220000e+01\n",
       "age5-19thinness     0.100000  2.810000e+01\n",
       "age5-19obesity      0.100000  2.670000e+01\n",
       "hepatitis           2.000000  9.900000e+01\n",
       "measles            16.000000  9.900000e+01\n",
       "polio               8.000000  9.900000e+01\n",
       "diphtheria         19.000000  9.900000e+01\n",
       "basic_water        18.695210  1.000000e+02\n",
       "doctors             0.128000  7.954100e+01\n",
       "hospitals           0.000000  5.644695e+01\n",
       "gni_capita        250.000000  1.238600e+05\n",
       "gghe-d              0.062360  1.206273e+01\n",
       "che_gdp             1.025160  2.041341e+01\n",
       "une_pop            76.016000  1.414049e+06\n",
       "une_infant          1.600000  1.424000e+02\n",
       "une_life           39.441000  8.398488e+01\n",
       "une_hiv             0.100000  2.820000e+01\n",
       "une_gni           420.000000  1.226700e+05\n",
       "une_poverty         0.100000  9.410000e+01\n",
       "une_edu_spend       0.787440  1.405908e+01\n",
       "une_literacy       14.376040  9.999819e+01\n",
       "une_school          0.559340  1.437880e+01"
      ]
     },
     "execution_count": 8,
     "metadata": {},
     "output_type": "execute_result"
    }
   ],
   "source": [
    "# In ra các giá trị min, max trong từng cột số numeric\n",
    "numeric_df = df.select_dtypes(include='number')\n",
    "rs = {\n",
    "     'Min' : numeric_df.min(),\n",
    "     'Max': numeric_df.max()\n",
    "}\n",
    "result = pd.DataFrame(rs)\n",
    "result"
   ]
  },
  {
   "cell_type": "markdown",
   "id": "65b91b43",
   "metadata": {},
   "source": [
    "Giá trị lớn nhất của các cột bị tràn số"
   ]
  },
  {
   "cell_type": "markdown",
   "id": "26865e4d",
   "metadata": {},
   "source": [
    "### Với mỗi cột có kiểu dữ liệu dạng phân loại (categorical), các giá trị được phân bố như thế nào?"
   ]
  },
  {
   "cell_type": "markdown",
   "id": "2032e2ba",
   "metadata": {},
   "source": [
    "#### Tỉ lệ (%) giá trị thiếu của mỗi cột là bao nhiêu? Mỗi cột có bao nhiêu giá trị khác nhau? Hiển thị 1 vài giá trị"
   ]
  },
  {
   "cell_type": "code",
   "execution_count": 9,
   "id": "a646c676",
   "metadata": {},
   "outputs": [],
   "source": [
    "pd.set_option('display.max_colwidth', 100) # Dễ xem\n",
    "pd.set_option('display.max_columns', None) # Dễ xem"
   ]
  },
  {
   "cell_type": "code",
   "execution_count": 13,
   "id": "992c5502",
   "metadata": {
    "scrolled": false
   },
   "outputs": [
    {
     "data": {
      "text/html": [
       "<div>\n",
       "<style scoped>\n",
       "    .dataframe tbody tr th:only-of-type {\n",
       "        vertical-align: middle;\n",
       "    }\n",
       "\n",
       "    .dataframe tbody tr th {\n",
       "        vertical-align: top;\n",
       "    }\n",
       "\n",
       "    .dataframe thead th {\n",
       "        text-align: right;\n",
       "    }\n",
       "</style>\n",
       "<table border=\"1\" class=\"dataframe\">\n",
       "  <thead>\n",
       "    <tr style=\"text-align: right;\">\n",
       "      <th></th>\n",
       "      <th>country</th>\n",
       "      <th>country_code</th>\n",
       "      <th>region</th>\n",
       "    </tr>\n",
       "  </thead>\n",
       "  <tbody>\n",
       "    <tr>\n",
       "      <th>missing_ratio</th>\n",
       "      <td>0.0</td>\n",
       "      <td>0.0</td>\n",
       "      <td>0.0</td>\n",
       "    </tr>\n",
       "    <tr>\n",
       "      <th>num_diff_values</th>\n",
       "      <td>183</td>\n",
       "      <td>183</td>\n",
       "      <td>6</td>\n",
       "    </tr>\n",
       "    <tr>\n",
       "      <th>diff_values</th>\n",
       "      <td>[Angola, Burundi, Benin, Burkina Faso, Botswana, Central African Republic, United Republic of Ta...</td>\n",
       "      <td>[AGO, BDI, BEN, BFA, BWA, CAF, TZA, UGA, ZAF, ZMB, ZWE, SSD, STP, SWZ, SYC, TCD, TGO, NAM, NER, ...</td>\n",
       "      <td>[Africa, Americas, Eastern Mediterranean, Europe, South-East Asia, Western Pacific]</td>\n",
       "    </tr>\n",
       "  </tbody>\n",
       "</table>\n",
       "</div>"
      ],
      "text/plain": [
       "                                                                                                             country  \\\n",
       "missing_ratio                                                                                                    0.0   \n",
       "num_diff_values                                                                                                  183   \n",
       "diff_values      [Angola, Burundi, Benin, Burkina Faso, Botswana, Central African Republic, United Republic of Ta...   \n",
       "\n",
       "                                                                                                        country_code  \\\n",
       "missing_ratio                                                                                                    0.0   \n",
       "num_diff_values                                                                                                  183   \n",
       "diff_values      [AGO, BDI, BEN, BFA, BWA, CAF, TZA, UGA, ZAF, ZMB, ZWE, SSD, STP, SWZ, SYC, TCD, TGO, NAM, NER, ...   \n",
       "\n",
       "                                                                                              region  \n",
       "missing_ratio                                                                                    0.0  \n",
       "num_diff_values                                                                                    6  \n",
       "diff_values      [Africa, Americas, Eastern Mediterranean, Europe, South-East Asia, Western Pacific]  "
      ]
     },
     "execution_count": 13,
     "metadata": {},
     "output_type": "execute_result"
    }
   ],
   "source": [
    "cat_col_info_df = df.select_dtypes(exclude=[np.number])\n",
    "\n",
    "# Hàm tính tỉ lệ giá trị thiếu\n",
    "# Lấy số giá trị thiếu chia cho số dòng của mỗi cột\n",
    "def missing_ratio(column):\n",
    "    return ((column.isnull().sum() / column.shape[0]) * 100).round(1)\n",
    "\n",
    "# Hàm tính số lượng giá trị khác nhau\n",
    "def num_diff_values(column):\n",
    "    return column.nunique()\n",
    "\n",
    "# Hàm trả về các giá trị khác nhau\n",
    "def diff_values(column):\n",
    "    return column.dropna().unique()\n",
    "\n",
    "# Hiển thị\n",
    "cat_col_info_df = cat_col_info_df.agg([missing_ratio, num_diff_values, diff_values])\n",
    "cat_col_info_df"
   ]
  },
  {
   "cell_type": "markdown",
   "id": "40ee9f92",
   "metadata": {},
   "source": [
    "Không có gì bất thường ở đây cả!"
   ]
  },
  {
   "cell_type": "markdown",
   "id": "924ce282",
   "metadata": {},
   "source": [
    "#### Trực quan tần suất xuất hiện của các khu vực (region) trong dữ liệu "
   ]
  },
  {
   "cell_type": "code",
   "execution_count": 11,
   "id": "39aaedfb",
   "metadata": {},
   "outputs": [
    {
     "data": {
      "image/png": "[encoded data removed]",
      "text/plain": [
       "<Figure size 640x480 with 1 Axes>"
      ]
     },
     "metadata": {},
     "output_type": "display_data"
    }
   ],
   "source": [
    "df['region'].value_counts().plot.barh()\n",
    "plt.xlabel('Số lần xuất hiện')\n",
    "plt.ylabel('Khu vực')\n",
    "plt.show()"
   ]
  }
 ],
 "metadata": {
  "kernelspec": {
   "display_name": "Python 3 (ipykernel)",
   "language": "python",
   "name": "python3"
  },
  "language_info": {
   "codemirror_mode": {
    "name": "ipython",
    "version": 3
   },
   "file_extension": ".py",
   "mimetype": "text/x-python",
   "name": "python",
   "nbconvert_exporter": "python",
   "pygments_lexer": "ipython3",
   "version": "3.11.5"
  }
 },
 "nbformat": 4,
 "nbformat_minor": 5
}
