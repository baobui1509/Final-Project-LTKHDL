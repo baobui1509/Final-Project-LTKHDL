{
 "cells": [
  {
   "cell_type": "markdown",
   "id": "ae0c8555",
   "metadata": {},
   "source": [
    "<div style=\"text-align: center; background-color: #0A6EBD; font-family: 'Trebuchet MS', Arial, sans-serif; color: white; padding: 20px; font-size: 40px; font-weight: bold; border-radius: 0 0 0 0; box-shadow: 0px 6px 8px rgba(0, 0, 0, 0.2); line-height: 1.5;\">\n",
    "    <center style=\"color:white;font-size:35px;padding:15px\"><b> ĐỒ ÁN CUỐI KỲ </b></center>\n",
    "<center style=\"color:black;font-size:30px;padding:15px\"><b> LẬP TRÌNH CHO KHOA HỌC DỮ LIỆU</b></center>\n",
    "</div>\n"
   ]
  },
  {
   "cell_type": "markdown",
   "id": "26091405",
   "metadata": {},
   "source": [
    "## Đưa ra các câu hỏi cần trả lời"
   ]
  },
  {
   "cell_type": "markdown",
   "id": "bf956d08",
   "metadata": {},
   "source": [
    "### Câu hỏi là gì?"
   ]
  },
  {
   "cell_type": "markdown",
   "id": "2fcb0706",
   "metadata": {},
   "source": [
    "- Câu 1:\n",
    "- Câu 2:\n",
    "- Câu 3: GDP của các châu lục thay đổi như thế nào trong giai đoạn 2000-2012? Liệu tỉ lệ biết chữ có ảnh hưởng tới GDP hay không? Từ đó, liệu rằng sự thay đổi GDP qua các năm có tác động lên tỉ lệ biết chữ hay không?"
   ]
  },
  {
   "cell_type": "markdown",
   "id": "64612483",
   "metadata": {},
   "source": [
    "### Nếu trả lời được câu hỏi thì sẽ có lợi ích gì?"
   ]
  },
  {
   "cell_type": "markdown",
   "id": "557a6915",
   "metadata": {},
   "source": [
    "- Câu 1:\n",
    "- Câu 2:\n",
    "- Câu 3:"
   ]
  }
 ],
 "metadata": {
  "kernelspec": {
   "display_name": "Python 3 (ipykernel)",
   "language": "python",
   "name": "python3"
  },
  "language_info": {
   "codemirror_mode": {
    "name": "ipython",
    "version": 3
   },
   "file_extension": ".py",
   "mimetype": "text/x-python",
   "name": "python",
   "nbconvert_exporter": "python",
   "pygments_lexer": "ipython3",
   "version": "3.11.5"
  }
 },
 "nbformat": 4,
 "nbformat_minor": 5
}
