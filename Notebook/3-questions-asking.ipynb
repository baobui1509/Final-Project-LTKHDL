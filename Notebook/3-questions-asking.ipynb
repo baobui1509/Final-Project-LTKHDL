{
 "cells": [
  {
   "cell_type": "markdown",
   "id": "ae0c8555",
   "metadata": {},
   "source": [
    "<div style=\"text-align: center; background-color: #0A6EBD; font-family: 'Trebuchet MS', Arial, sans-serif; color: white; padding: 20px; font-size: 40px; font-weight: bold; border-radius: 0 0 0 0; box-shadow: 0px 6px 8px rgba(0, 0, 0, 0.2); line-height: 1.5;\">\n",
    "    <center style=\"color:white;font-size:35px;padding:15px\"><b> ĐỒ ÁN CUỐI KỲ </b></center>\n",
    "<center style=\"color:black;font-size:30px;padding:15px\"><b> LẬP TRÌNH CHO KHOA HỌC DỮ LIỆU</b></center>\n",
    "</div>\n"
   ]
  },
  {
   "cell_type": "markdown",
   "id": "26091405",
   "metadata": {},
   "source": [
    "## Đưa ra các câu hỏi cần trả lời"
   ]
  },
  {
   "cell_type": "markdown",
   "id": "bf956d08",
   "metadata": {},
   "source": [
    "### Câu hỏi là gì?"
   ]
  },
  {
   "cell_type": "markdown",
   "id": "2fcb0706",
   "metadata": {},
   "source": [
    "- Câu 1:\n",
    "- Câu 2: Tuổi thọ trung bình của 5 quốc gia có GDP bình quân đầu người cao nhất châu Á trong 10 năm gần đây thay đổi như thế nào?\n",
    "- Câu 3:\n",
    "- Câu 4: \n",
    "- Câu 5: So sánh xu hướng thay đổi về tuổi thọ kỳ vọng ở các nước các mức thu nhập thấp, trung bình thấp, trung bình cao và cao trên thế giới?\n",
    "- Câu 6:"
   ]
  },
  {
   "cell_type": "markdown",
   "id": "64612483",
   "metadata": {},
   "source": [
    "### Nếu trả lời được câu hỏi thì sẽ có lợi ích gì?"
   ]
  },
  {
   "cell_type": "markdown",
   "id": "557a6915",
   "metadata": {},
   "source": [
    "- Câu 1:\n",
    "- Câu 2: Những lợi ích khi tìm ra câu trả lời:\n",
    "  - Cho phép theo dõi xu hướng biến động tuổi thọ ở các vùng, khu vực trong giai đoạn gần đây. Điều này hữu ích cho việc hoạch \n",
    "      định các chính sách y tế, xã hội cho phù hợp.\n",
    "  - Phát hiện sự chênh lệch về tuổi thọ giữa các nhóm dân cư thuộc các vùng miền. Từ đó có thể đề ra các giải pháp hỗ trợ, can \n",
    "      thiệp nhắm vào các nhóm dễ bị tổn thương.\n",
    "  - Đánh giá hiệu quả của các chương trình y tế công cộng đang được triển khai tại các địa phương khác nhau trên cả nước.\n",
    "  - Cung cấp thêm bằng chứng cho các nghiên cứu về ảnh hưởng của các yếu tố kinh tế, xã hội đối với tuổi thọ trung bình của \n",
    "      người dân.\n",
    "  - Hiểu rõ xu hướng: Biểu đồ sẽ giúp bạn hiểu rõ hơn về cách tuổi thọ kỳ vọng của những quốc gia hàng đầu đã thay đổi trong \n",
    "      khoảng thời gian gần đây. Bạn có thể nhận ra xu hướng tăng giảm và điều này có thể mang lại thông điệp quan trọng về sức \n",
    "      khỏe và chất lượng cuộc sống trong khu vực.\n",
    "  - So sánh hiệu suất: Bằng cách so sánh tuổi thọ kỳ vọng giữa các quốc gia, bạn có thể xác định những quốc gia nào đã có sự cải \n",
    "      thiện đáng kể hoặc ngược lại, những quốc gia nào đang gặp khó khăn về mặt sức khỏe cộng đồng.\n",
    "  - Phát hiện ảnh hưởng: Nếu có các sự kiện đặc biệt xảy ra trong 10 năm gần đây (ví dụ: đại dịch, biến động kinh tế), biểu đồ \n",
    "      có thể giúp bạn phát hiện những ảnh hưởng của những sự kiện này đối với tuổi thọ kỳ vọng.\n",
    "  - Hỗ trợ ra quyết định: Nếu bạn làm việc trong lĩnh vực chính trị, kinh tế hoặc y tế, việc này có thể hỗ trợ quyết định chính \n",
    "      sách hoặc chiến lược dựa trên thông tin cụ thể về sức khỏe dân số và phát triển kinh tế.\n",
    "  - Giao tiếp hiệu quả: Biểu đồ là một cách mạnh mẽ để trình bày dữ liệu phức tạp một cách trực quan và dễ hiểu. Nó giúp bạn dễ \n",
    "      dàng chia sẻ thông tin với người khác mà không cần giải thích nhiều.\n",
    "- Câu 3:\n",
    "- Câu 4:\n",
    "- Câu 5: Những lợi ích khi tìm ra câu trả lời:\n",
    "  - Giúp hiểu rõ hơn sự khác biệt về tình trạng sức khỏe và tuổi thọ giữa các nhóm quốc gia có điều kiện kinh tế-xã hội khác nhau.\n",
    "  - Cung cấp thêm bằng chứng về mối liên hệ giữa thu nhập và tuổi thọ, từ đó đề xuất các giải pháp nâng cao chất lượng cuộc sống.\n",
    "  - Đánh giá được hiệu quả của các chính sách y tế đang áp dụng ở các nước nghèo và giàu.\n",
    "  - Dự báo được xu hướng tương lai về tuổi thọ khi kinh tế phát triển hoặc suy thoái ở các khu vực.\n",
    "  - Cung cấp thêm luận cứ và kiến thức để các nhà hoạch định chính sách đưa ra định hướng phát triển bền vững.\n",
    "  - Thúc đẩy nghiên cứu và lý giải sâu hơn về các yếu tố ảnh hưởng đến tuổi thọ con người.\n",
    "- Câu 6:"
   ]
  }
 ],
 "metadata": {
  "kernelspec": {
   "display_name": "Python 3 (ipykernel)",
   "language": "python",
   "name": "python3"
  },
  "language_info": {
   "codemirror_mode": {
    "name": "ipython",
    "version": 3
   },
   "file_extension": ".py",
   "mimetype": "text/x-python",
   "name": "python",
   "nbconvert_exporter": "python",
   "pygments_lexer": "ipython3",
   "version": "3.11.5"
  }
 },
 "nbformat": 4,
 "nbformat_minor": 5
}
