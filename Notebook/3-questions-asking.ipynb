{
 "cells": [
  {
   "cell_type": "markdown",
   "id": "ae0c8555",
   "metadata": {},
   "source": [
    "<div style=\"text-align: center; background-color: #0A6EBD; font-family: 'Trebuchet MS', Arial, sans-serif; color: white; padding: 20px; font-size: 40px; font-weight: bold; border-radius: 0 0 0 0; box-shadow: 0px 6px 8px rgba(0, 0, 0, 0.2); line-height: 1.5;\">\n",
    "    <center style=\"color:white;font-size:35px;padding:15px\"><b> ĐỒ ÁN CUỐI KỲ </b></center>\n",
    "<center style=\"color:black;font-size:30px;padding:15px\"><b> LẬP TRÌNH CHO KHOA HỌC DỮ LIỆU</b></center>\n",
    "</div>\n"
   ]
  },
  {
   "cell_type": "markdown",
   "id": "26091405",
   "metadata": {},
   "source": [
    "## Đưa ra các câu hỏi cần trả lời"
   ]
  },
  {
   "cell_type": "markdown",
   "id": "bf956d08",
   "metadata": {},
   "source": [
    "### Câu hỏi là gì?"
   ]
  },
  {
   "cell_type": "markdown",
   "id": "2fcb0706",
   "metadata": {},
   "source": [
    "- Câu 1: Mức độ tương quan của các yếu tố ảnh hưởng đối với tuổi thọ trung bình là như thế nào?\n",
    "- Câu 2: Tuổi thọ trung bình của 5 quốc gia có GDP bình quân đầu người cao nhất châu Á trong 10 năm gần đây thay đổi như thế nào?\n",
    "- Câu 3: Các yếu tố về giáo dục ảnh hưởng đến tuổi thọ trung bình ở các quốc gia như thế nào? Liệu sự thay đổi về tỉ lệ biết chữ ở các quốc gia có ảnh hưởng đến sự thay đổi về tuổi thọ trung bình hay không, vì sao?\n",
    "- Câu 4: Trong năm 2016, tỉ lệ dân số sử dụng các loại nước uống cơ bản của 5 quốc gia có tỉ lệ thấp nhất vào năm 2000 thay đổi như thế nào?\n",
    "- Câu 5: Xu hướng thay đổi về tuổi thọ trung bình ở các nước có mức thu nhập thấp, trung bình thấp, trung bình cao và cao trên thế giới khác nhau như thế nào?\n",
    "- Câu 6: Số bác sĩ và số lượng bệnh viện ảnh hưởng như thế nào đến tuổi thọ trung bình ở các quốc gia?"
   ]
  },
  {
   "cell_type": "markdown",
   "id": "64612483",
   "metadata": {},
   "source": [
    "### Nếu trả lời được câu hỏi thì sẽ có lợi ích gì?"
   ]
  },
  {
   "cell_type": "markdown",
   "id": "557a6915",
   "metadata": {},
   "source": [
    "- Câu 1: \n",
    "    - Giúp các quốc gia có thể nắm bắt được mức độ ảnh hưởng của các yếu tố đến tuổi thọ trung bình của quốc gia, từ đó quốc gia có thể điều chỉnh chính sách về y tế, giáo dục, kinh tế... để cải thiện tuổi thọ của người dân hoặc kiểm soát tuổi thọ phục vụ cho các chính sách phát triển đất nước.\n",
    "- Câu 2:\n",
    "    - Cho phép theo dõi xu hướng biến động tuổi thọ ở các vùng, khu vực trong giai đoạn gần đây. Điều này hữu ích cho việc hoạch định các chính sách y tế, xã hội cho phù hợp.\n",
    "    - Phát hiện sự chênh lệch về tuổi thọ giữa các nhóm dân cư thuộc các vùng miền. Từ đó có thể đề ra các giải pháp hỗ trợ, can thiệp nhắm vào các nhóm dễ bị tổn thương.\n",
    "    - Đánh giá hiệu quả của các chương trình y tế công cộng đang được triển khai tại các địa phương khác nhau trên cả nước.\n",
    "    - Cung cấp thêm bằng chứng cho các nghiên cứu về ảnh hưởng của các yếu tố kinh tế, xã hội đối với tuổi thọ trung bình của người dân.\n",
    "    - Giao tiếp hiệu quả: Biểu đồ là một cách mạnh mẽ để trình bày dữ liệu phức tạp một cách trực quan và dễ hiểu. Nó giúp bạn dễ dàng chia sẻ thông tin với người khác mà không cần giải thích nhiều.\n",
    "- Câu 3:\n",
    "    -  Hiểu được mối tương quan giữa các yếu tố giáo dục và tỉ lệ tuổi thọ trung bình ở các quốc gia\n",
    "    - Cung cấp thông tin hữu ích cho các nhóm nghiên cứu, chính trị gia và quản lý chính sách để phát triển các chiến lược quốc gia bền vững.\n",
    "    - Cho thấy độ mức độ chênh lệnh về GDP của các quốc gia qua từng năm từ đó đưa ra đánh giá về các vấn đề ảnh hưởng.\n",
    "    - Cho thấy được tầm quan trọng của giáo dục, từ đó định hướng phát triển giáo dục ở các quốc gia trong tương lai\n",
    "    - Tăng cường tránh nhiệm của xã hội trong việc đầu tư vào giáo dục, tăng tỉ lệ người biết chữ\n",
    "- Câu 4:\n",
    "     - Đánh Giá Hiệu Quả Chính Sách: Hiểu được tác động của các chính sách và các chiến lược nhằm cải thiện tiếp cận và sử dụng nước uống cơ bản trong cộng đồng\n",
    "     - Định Hình Chiến Lược Tương Lai: Cung cấp thông tin hữu ích để định hình chiến lược và chính sách cho tương lai, đặc biệt là những nỗ lực nhằm giảm thiểu sự chênh lệch trong việc tiếp cận nước uống\n",
    "     - Tăng Cường Trách Nhiệm Xã Hội: Tăng cường trách nhiệm xã hội của các tổ chức và chính phủ đối với vấn đề sử dụng nước uống cơ bản, đặc biệt là đối với cộng đồng có tỉ lệ sử dụng thấp.\n",
    "- Câu 5:\n",
    "    - Giúp hiểu rõ hơn sự khác biệt về tình trạng sức khỏe và tuổi thọ giữa các nhóm quốc gia có điều kiện kinh tế-xã hội khác nhau.\n",
    "    - Cung cấp thêm bằng chứng về mối liên hệ giữa thu nhập và tuổi thọ, từ đó đề xuất các giải pháp nâng cao chất lượng cuộc sống.\n",
    "    - Đánh giá được hiệu quả của các chính sách y tế đang áp dụng ở các nước nghèo và giàu.\n",
    "    - Dự báo được xu hướng tương lai về tuổi thọ khi kinh tế phát triển hoặc suy thoái ở các khu vực.\n",
    "    - Cung cấp thêm luận cứ và kiến thức để các nhà hoạch định chính sách đưa ra định hướng phát triển bền vững.\n",
    "- Câu 6:\n",
    "    - Biết được mối quan hệ giữa số lượng bác sĩ và số lượng bệnh viện với tuổi thọ trung bình ở các quốc gia.\n",
    "    - Cung cấp thông tin cho các quốc gia để tăng cường về năng lực y tế (số lượng bác sĩ và số lượng bệnh viện).\n",
    "    - Cho thấy được tầm quan trọng của bác sĩ và bệnh viện đối với sự tăng của tuổi thọ trung bình của quốc gia.\n",
    "    - Từ đó các quốc gia sẽ tăng cường cho các hoạt động y tế, tăng cường chuyên môn cho các y bác sĩ"
   ]
  },
  {
   "cell_type": "markdown",
   "id": "169fcd46",
   "metadata": {},
   "source": []
  }
 ],
 "metadata": {
  "kernelspec": {
   "display_name": "Python 3 (ipykernel)",
   "language": "python",
   "name": "python3"
  },
  "language_info": {
   "codemirror_mode": {
    "name": "ipython",
    "version": 3
   },
   "file_extension": ".py",
   "mimetype": "text/x-python",
   "name": "python",
   "nbconvert_exporter": "python",
   "pygments_lexer": "ipython3",
   "version": "3.11.5"
  }
 },
 "nbformat": 4,
 "nbformat_minor": 5
}
