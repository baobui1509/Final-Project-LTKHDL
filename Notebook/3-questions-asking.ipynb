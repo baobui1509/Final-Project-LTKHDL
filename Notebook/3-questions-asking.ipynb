{
 "cells": [
  {
   "cell_type": "markdown",
   "id": "ae0c8555",
   "metadata": {},
   "source": [
    "<div style=\"text-align: center; background-color: #0A6EBD; font-family: 'Trebuchet MS', Arial, sans-serif; color: white; padding: 20px; font-size: 40px; font-weight: bold; border-radius: 0 0 0 0; box-shadow: 0px 6px 8px rgba(0, 0, 0, 0.2); line-height: 1.5;\">\n",
    "    <center style=\"color:white;font-size:35px;padding:15px\"><b> ĐỒ ÁN CUỐI KỲ </b></center>\n",
    "<center style=\"color:black;font-size:30px;padding:15px\"><b> LẬP TRÌNH CHO KHOA HỌC DỮ LIỆU</b></center>\n",
    "</div>\n"
   ]
  },
  {
   "cell_type": "markdown",
   "id": "26091405",
   "metadata": {},
   "source": [
    "## Đưa ra các câu hỏi cần trả lời"
   ]
  },
  {
   "cell_type": "markdown",
   "id": "bf956d08",
   "metadata": {},
   "source": [
    "### Câu hỏi là gì?"
   ]
  },
  {
   "cell_type": "markdown",
   "id": "2fcb0706",
   "metadata": {},
   "source": [
    "- Câu 1: Mức độ tương quan của các yếu tố ảnh hưởng đối với tuổi thọ trung bình là như thế nào?\n",
    "- Câu 2:\n",
    "- Câu 3:"
   ]
  },
  {
   "cell_type": "markdown",
   "id": "64612483",
   "metadata": {},
   "source": [
    "### Nếu trả lời được câu hỏi thì sẽ có lợi ích gì?"
   ]
  },
  {
   "cell_type": "markdown",
   "id": "557a6915",
   "metadata": {},
   "source": [
    "- Câu 1: Câu trả lời cho câu hỏi trên giúp các quốc gia có thể nắm bắt được mức độ ảnh hưởng của các yếu tố đến tuổi thọ trung bình của quốc gia, từ đó quốc gia có thể điều chỉnh chính sách về y tế, giáo dục, kinh tế... để cải thiện tuổi thọ của người dân hoặc kiểm soát tuổi thọ phục vụ cho các chính sách phát triển đất nước.\n",
    "- Câu 2:\n",
    "- Câu 3:"
   ]
  }
 ],
 "metadata": {
  "kernelspec": {
   "display_name": "Python 3 (ipykernel)",
   "language": "python",
   "name": "python3"
  },
  "language_info": {
   "codemirror_mode": {
    "name": "ipython",
    "version": 3
   },
   "file_extension": ".py",
   "mimetype": "text/x-python",
   "name": "python",
   "nbconvert_exporter": "python",
   "pygments_lexer": "ipython3",
   "version": "3.11.5"
  }
 },
 "nbformat": 4,
 "nbformat_minor": 5
}
