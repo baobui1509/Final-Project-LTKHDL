{
 "cells": [
  {
   "cell_type": "markdown",
   "id": "48509ed6",
   "metadata": {},
   "source": [
    "<div style=\"text-align: center; background-color: #0A6EBD; font-family: 'Trebuchet MS', Arial, sans-serif; color: white; padding: 20px; font-size: 40px; font-weight: bold; border-radius: 0 0 0 0; box-shadow: 0px 6px 8px rgba(0, 0, 0, 0.2); line-height: 1.5;\">\n",
    "    <center style=\"color:white;font-size:35px;padding:15px\"><b> ĐỒ ÁN CUỐI KỲ </b></center>\n",
    "<center style=\"color:black;font-size:30px;padding:15px\"><b> LẬP TRÌNH CHO KHOA HỌC DỮ LIỆU</b></center>\n",
    "</div>\n"
   ]
  },
  {
   "cell_type": "markdown",
   "id": "d5fdf643",
   "metadata": {},
   "source": [
    "### Đã gặp những khó khăn gì?"
   ]
  },
  {
   "cell_type": "markdown",
   "id": "367ec962",
   "metadata": {},
   "source": [
    "- Bùi Thiên Bảo: \n",
    "- Huỳnh Phát Đạt: Một số khó khăn gặp phải:\n",
    "    - Dữ liệu có quá nhiều thuộc tính, cột khác nhau. Việc phân tích đầy đủ tất cả các khía cạnh sẽ mất rất nhiều thời gian và  \n",
    "      công sức.\n",
    "    - Một số cột dữ liệu chứa các thuật ngữ chuyên ngành về y tế/dân số mà bản thân chưa nắm rõ. Cần tìm hiểu thêm từ điển dữ liệu \n",
    "      để hiểu chính xác.\n",
    "    - Kích thước dữ liệu tương đối lớn, có nhiều hàng/cột chưa qua xử lý, làm khó khăn trong việc trực quan hóa và mô hình hóa ban \n",
    "      đầu.\n",
    "    - Chưa có kỹ năng xử lý và phân tích dữ liệu ở quy mô lớn nên gặp nhiều sai sót, chậm chạp.\n",
    "    - Thiếu kinh nghiệm trong cách đặt câu hỏi phân tích dữ liệu và kỹ năng truyền đạt, trình bày kết quả phân tích dưới dạng báo \n",
    "      cáo.\n",
    "    - Việc chọn mô hình phân tích, thuật toán phù hợp với từng câu hỏi đòi hỏi kinh nghiệm thực tế nhiều hơn.\n",
    "- Hồ Trọng Lễ:"
   ]
  },
  {
   "cell_type": "markdown",
   "id": "99bc19fe",
   "metadata": {},
   "source": [
    "### Đã học được những gì?"
   ]
  },
  {
   "cell_type": "markdown",
   "id": "4eca5e0b",
   "metadata": {},
   "source": [
    "- Bùi Thiên Bảo: \n",
    "- Huỳnh Phát Đạt: Những điều đã học được: \n",
    "    - Cách xử lý và làm sạch dữ liệu thô thực tế để chuẩn bị cho phân tích sâu hơn. Biết cách xử lý các giá trị khuyết thiếu, \n",
    "      ngoại lai trong tập dữ liệu.\n",
    "    - Kỹ năng lựa chọn và áp dụng các kỹ thuật phân tích thống kê phù hợp để giải quyết từng câu hỏi nghiên cứu cụ thể với dữ \n",
    "      liệu. Ví dụ: tương quan, hồi quy, phân nhóm, ANOVA, v.v.\n",
    "    - Cách trình bày kết quả phân tích dưới dạng biểu đồ, bảng số liệu để dễ hiểu và truyền tải thông điệp tới người đọc. Lựa chọn \n",
    "      biểu đồ phù hợp để minh họa cho từng loại kết quả.\n",
    "    - Kỹ năng đặt câu hỏi phân tích theo từng góc độ khác nhau dựa trên cùng một tập dữ liệu. Xác định được câu hỏi nghiên cứu phù \n",
    "      hợp và có giá trị.\n",
    "    - Cách diễn giải và trình bày các kết quả phân tích một cách logic, khoa học dễ hiểu đối với người đọc không chuyên.\n",
    "- Hồ Trọng Lễ:"
   ]
  },
  {
   "cell_type": "markdown",
   "id": "0862d0d7",
   "metadata": {},
   "source": [
    "### Nếu có thêm thời gian thì sẽ làm gì?"
   ]
  },
  {
   "cell_type": "markdown",
   "id": "1fd3b941",
   "metadata": {},
   "source": []
  }
 ],
 "metadata": {
  "kernelspec": {
   "display_name": "Python 3 (ipykernel)",
   "language": "python",
   "name": "python3"
  },
  "language_info": {
   "codemirror_mode": {
    "name": "ipython",
    "version": 3
   },
   "file_extension": ".py",
   "mimetype": "text/x-python",
   "name": "python",
   "nbconvert_exporter": "python",
   "pygments_lexer": "ipython3",
   "version": "3.11.5"
  }
 },
 "nbformat": 4,
 "nbformat_minor": 5
}
