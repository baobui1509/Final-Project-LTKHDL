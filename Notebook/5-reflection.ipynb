{
 "cells": [
  {
   "cell_type": "markdown",
   "id": "48509ed6",
   "metadata": {},
   "source": [
    "<div style=\"text-align: center; background-color: #0A6EBD; font-family: 'Trebuchet MS', Arial, sans-serif; color: white; padding: 20px; font-size: 40px; font-weight: bold; border-radius: 0 0 0 0; box-shadow: 0px 6px 8px rgba(0, 0, 0, 0.2); line-height: 1.5;\">\n",
    "    <center style=\"color:white;font-size:35px;padding:15px\"><b> ĐỒ ÁN CUỐI KỲ </b></center>\n",
    "<center style=\"color:black;font-size:30px;padding:15px\"><b> LẬP TRÌNH CHO KHOA HỌC DỮ LIỆU</b></center>\n",
    "</div>\n"
   ]
  },
  {
   "cell_type": "markdown",
   "id": "d5fdf643",
   "metadata": {},
   "source": [
    "### Đã gặp những khó khăn gì?"
   ]
  },
  {
   "cell_type": "markdown",
   "id": "ff5c49ae",
   "metadata": {},
   "source": [
    "- Hồ Trọng Lễ:\n",
    "    - Khó khăn trong việc đặt câu hỏi để phân tích dữ liệu\n",
    "    - Việc tiếp cận với Git và Github khá khó khăn vì đây có lẽ là lần đầu tiên sử dụng\n",
    "    - Một số câu lệnh trong python khá mới, khá dễ nhầm lẫn giữa các kiểu dữ liệu"
   ]
  },
  {
   "cell_type": "markdown",
   "id": "99bc19fe",
   "metadata": {},
   "source": [
    "### Đã học được những gì?"
   ]
  },
  {
   "cell_type": "markdown",
   "id": "67af8c2f",
   "metadata": {},
   "source": [
    "- Hồ Trọng Lễ:\n",
    "    - Học được cách làm việc nhóm bằng Git và Github\n",
    "    - Học được cách sử dụng những câu lệnh trong python\n",
    "    - Tự xử lí dữ liệu, tìm cách đặt câu hỏi và vẽ đồ thị sao cho có ý nghĩa, sát với thực tế,...\n",
    "\n"
   ]
  },
  {
   "cell_type": "markdown",
   "id": "0862d0d7",
   "metadata": {},
   "source": [
    "### Nếu có thêm thời gian thì sẽ làm gì?"
   ]
  },
  {
   "cell_type": "markdown",
   "id": "7631a710",
   "metadata": {},
   "source": [
    "- Hồ Trọng Lễ:\n",
    "    - Nếu có thêm thời gian, sẽ chọn dữ liệu có nhiều trường hơn để phân tích và tìm cách xử lí dữ liệu một các tối ưu.\n",
    "    - Ngoài ra, sẽ chọn một câu hỏi khó và có ý nghĩa hơn để phân tích\n",
    "    - Học cách sử dụng thành thạo Git, Github cũng là một việc sẽ làm nếu có thêm thời gian"
   ]
  }
 ],
 "metadata": {
  "kernelspec": {
   "display_name": "Python 3 (ipykernel)",
   "language": "python",
   "name": "python3"
  },
  "language_info": {
   "codemirror_mode": {
    "name": "ipython",
    "version": 3
   },
   "file_extension": ".py",
   "mimetype": "text/x-python",
   "name": "python",
   "nbconvert_exporter": "python",
   "pygments_lexer": "ipython3",
   "version": "3.11.5"
  }
 },
 "nbformat": 4,
 "nbformat_minor": 5
}
