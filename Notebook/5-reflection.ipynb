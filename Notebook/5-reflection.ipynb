{
	"cells": [
		{
			"cell_type": "markdown",
			"id": "48509ed6",
			"metadata": {},
			"source": [
				"<div style=\"text-align: center; background-color: #0A6EBD; font-family: 'Trebuchet MS', Arial, sans-serif; color: white; padding: 20px; font-size: 40px; font-weight: bold; border-radius: 0 0 0 0; box-shadow: 0px 6px 8px rgba(0, 0, 0, 0.2); line-height: 1.5;\">\n",
				"    <center style=\"color:white;font-size:35px;padding:15px\"><b> ĐỒ ÁN CUỐI KỲ </b></center>\n",
				"<center style=\"color:black;font-size:30px;padding:15px\"><b> LẬP TRÌNH CHO KHOA HỌC DỮ LIỆU</b></center>\n",
				"</div>\n"
			]
		},
		{
			"cell_type": "markdown",
			"id": "d5fdf643",
			"metadata": {},
			"source": [
				"### Đã gặp những khó khăn gì?"
			]
		},
		{
			"cell_type": "markdown",
			"id": "7f527d65",
			"metadata": {},
			"source": [
				"- Bùi Thiên Bảo:\n",
				"    - Khó khăn trong việc chọn dataset phù hợp (Dataset có thể đặt được những câu hỏi ý nghĩa)\n",
				"    - Khó khăn trong việc thực hiện các thao tác trên Git như xử lí conflict (khi merge branch)\n",
				"- Huỳnh Phát Đạt:\n",
				"    - Dữ liệu có quá nhiều thuộc tính, cột khác nhau. Việc phân tích đầy đủ tất cả các khía cạnh sẽ mất rất nhiều thời gian và\n",
				"công sức.\n",
				"    - Một số cột dữ liệu chứa các thuật ngữ chuyên ngành về y tế/dân số mà bản thân chưa nắm rõ. Cần tìm hiểu thêm từ điển dữ liệu để hiểu chính xác.\n",
				"    - Kích thước dữ liệu tương đối lớn, có nhiều hàng/cột chưa qua xử lý, làm khó khăn trong việc trực quan hóa và mô hình hóa ban đầu.\n",
				"    - Chưa có kỹ năng xử lý và phân tích dữ liệu ở quy mô lớn nên gặp nhiều sai sót, chậm chạp.\n",
				"    - Thiếu kinh nghiệm trong cách đặt câu hỏi phân tích dữ liệu và kỹ năng truyền đạt, trình bày kết quả phân tích dưới dạng báo cáo.\n",
				"    - Việc chọn mô hình phân tích, thuật toán phù hợp với từng câu hỏi đòi hỏi kinh nghiệm thực tế nhiều hơn.\n",
				"- Hồ Trọng Lễ:\n",
				"    - Khó khăn trong việc đặt câu hỏi để phân tích dữ liệu\n",
				"    - Việc tiếp cận với Git và Github khá khó khăn vì đây có lẽ là lần đầu tiên sử dụng\n",
				"    - Một số câu lệnh trong python khá mới, khá dễ nhầm lẫn giữa các kiểu dữ liệu"
			]
		},
		{
			"cell_type": "markdown",
			"id": "99bc19fe",
			"metadata": {},
			"source": [
				"### Đã học được những gì?"
			]
		},
		{
			"cell_type": "markdown",
			"id": "69be66de",
			"metadata": {},
			"source": [
				"- Bùi Thiên Bảo:\n",
				"    - Học được cách làm việc nhóm thông qua Git và Github\n",
				"    - Sử dụng thành thạo hơn các hàm trong các thư viện `numpy`, `pandas`, `matplotlib`\n",
				"- Huỳnh Phát Đạt:\n",
				"    - Cách xử lý và làm sạch dữ liệu thô thực tế để chuẩn bị cho phân tích sâu hơn. Biết cách xử lý các giá trị khuyết thiếu, ngoại lai trong tập dữ liệu.\n",
				"    - Kỹ năng lựa chọn và áp dụng các kỹ thuật phân tích thống kê phù hợp để giải quyết từng câu hỏi nghiên cứu cụ thể với dữ liệu. Ví dụ: tương quan, hồi quy, phân nhóm, ANOVA, v.v.\n",
				"    - Cách trình bày kết quả phân tích dưới dạng biểu đồ, bảng số liệu để dễ hiểu và truyền tải thông điệp tới người đọc. Lựa chọn biểu đồ phù hợp để minh họa cho từng loại kết quả.\n",
				"    - Kỹ năng đặt câu hỏi phân tích theo từng góc độ khác nhau dựa trên cùng một tập dữ liệu. Xác định được câu hỏi nghiên cứu phù hợp và có giá trị.\n",
				"    - Cách diễn giải và trình bày các kết quả phân tích một cách logic, khoa học dễ hiểu đối với người đọc không chuyên.\n",
				"- Hồ Trọng Lễ:\n",
				"    - Học được cách làm việc nhóm bằng Git và Github\n",
				"    - Học được cách sử dụng những câu lệnh trong python\n",
				"    - Tự xử lí dữ liệu, tìm cách đặt câu hỏi và vẽ đồ thị sao cho có ý nghĩa, sát với thực tế,...\n",
				" "
			]
		},
		{
			"cell_type": "markdown",
			"id": "0862d0d7",
			"metadata": {},
			"source": [
				"### Nếu có thêm thời gian thì sẽ làm gì?"
			]
		},
		{
			"cell_type": "markdown",
			"id": "23272b15",
			"metadata": {},
			"source": [
				"Nếu có thêm thời gian thì nhóm em sẽ tìm và thu thập nhiều dữ liệu liên quan đến các yếu tố ảnh hưởng đến tuổi thọ, từ đó nhóm có thể khai thác sâu hơn vào các yếu tố đó, đưa ra các hướng xử lý hay, phức tạp hơn và giải đáp được nhiều câu hỏi mà nhóm có thể đặt ra với lượng dữ liệu đó."
			]
		}
	],
	"metadata": {
		"kernelspec": {
			"display_name": "Python 3 (ipykernel)",
			"language": "python",
			"name": "python3"
		},
		"language_info": {
			"codemirror_mode": {
				"name": "ipython",
				"version": 3
			},
			"file_extension": ".py",
			"mimetype": "text/x-python",
			"name": "python",
			"nbconvert_exporter": "python",
			"pygments_lexer": "ipython3",
			"version": "3.11.5"
		}
	},
	"nbformat": 4,
	"nbformat_minor": 5
}
