{
 "cells": [
  {
   "cell_type": "markdown",
   "id": "48509ed6",
   "metadata": {},
   "source": [
    "<div style=\"text-align: center; background-color: #0A6EBD; font-family: 'Trebuchet MS', Arial, sans-serif; color: white; padding: 20px; font-size: 40px; font-weight: bold; border-radius: 0 0 0 0; box-shadow: 0px 6px 8px rgba(0, 0, 0, 0.2); line-height: 1.5;\">\n",
    "    <center style=\"color:white;font-size:35px;padding:15px\"><b> ĐỒ ÁN CUỐI KỲ </b></center>\n",
    "<center style=\"color:black;font-size:30px;padding:15px\"><b> LẬP TRÌNH CHO KHOA HỌC DỮ LIỆU</b></center>\n",
    "</div>\n"
   ]
  },
  {
   "cell_type": "markdown",
   "id": "d5fdf643",
   "metadata": {},
   "source": [
    "### Đã gặp những khó khăn gì?"
   ]
  },
  {
   "cell_type": "markdown",
   "id": "7f527d65",
   "metadata": {},
   "source": [
    "- Bùi Thiên Bảo:\n",
    "    - Khó khăn trong việc chọn dataset phù hợp (Dataset có thể đặt được những câu hỏi ý nghĩa)\n",
    "    - Khó khăn trong việc thực hiện các thao tác trên Git như xử lí conflict (khi merge branch)\n",
    "- Huỳnh Phát Đạt:\n",
    "- Hồ Trọng Lễ:"
   ]
  },
  {
   "cell_type": "markdown",
   "id": "99bc19fe",
   "metadata": {},
   "source": [
    "### Đã học được những gì?"
   ]
  },
  {
   "cell_type": "markdown",
   "id": "69be66de",
   "metadata": {},
   "source": [
    "- Bùi Thiên Bảo:\n",
    "    - Học được cách làm việc nhóm thông qua Git và Github\n",
    "    - Sử dụng thành thạo hơn các hàm trong các thư viện `numpy`, `pandas`, `matplotlib`\n",
    "- Huỳnh Phát Đạt:\n",
    "- Hồ Trọng Lễ:"
   ]
  },
  {
   "cell_type": "markdown",
   "id": "0862d0d7",
   "metadata": {},
   "source": [
    "### Nếu có thêm thời gian thì sẽ làm gì?"
   ]
  },
  {
   "cell_type": "markdown",
   "id": "23272b15",
   "metadata": {},
   "source": [
    "Nếu có thêm thời gian thì nhóm em sẽ tìm và thu thập nhiều dữ liệu liên quan đến các yếu tố ảnh hưởng đến tuổi thọ, từ đó nhóm có thể khai thác sâu hơn vào các yếu tố đó, đưa ra các hướng xử lý hay, phức tạp hơn và giải đáp được nhiều câu hỏi mà nhóm có thể đặt ra với lượng dữ liệu đó."
   ]
  }
 ],
 "metadata": {
  "kernelspec": {
   "display_name": "Python 3 (ipykernel)",
   "language": "python",
   "name": "python3"
  },
  "language_info": {
   "codemirror_mode": {
    "name": "ipython",
    "version": 3
   },
   "file_extension": ".py",
   "mimetype": "text/x-python",
   "name": "python",
   "nbconvert_exporter": "python",
   "pygments_lexer": "ipython3",
   "version": "3.11.5"
  }
 },
 "nbformat": 4,
 "nbformat_minor": 5
}
